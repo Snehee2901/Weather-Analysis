{
 "cells": [
  {
   "cell_type": "markdown",
   "metadata": {},
   "source": [
    "# Weather Analysis"
   ]
  },
  {
   "cell_type": "markdown",
   "metadata": {},
   "source": [
    "This dataset contains the weather changes of weather in Szeged,Hungary from year 2006 to 2016. It has 12 columns and 96453 rows. \n",
    "\n",
    "Source: https://www.kaggle.com/budincsevity/szeged-weather"
   ]
  },
  {
   "cell_type": "markdown",
   "metadata": {},
   "source": [
    "### Importing data, Cleaning data and formatting dataset "
   ]
  },
  {
   "cell_type": "code",
   "execution_count": 71,
   "metadata": {},
   "outputs": [],
   "source": [
    "import pandas as pd\n",
    "import numpy as np\n",
    "import seaborn as sns\n",
    "import matplotlib.pyplot as plt"
   ]
  },
  {
   "cell_type": "code",
   "execution_count": 31,
   "metadata": {},
   "outputs": [
    {
     "data": {
      "text/html": [
       "<div>\n",
       "<style scoped>\n",
       "    .dataframe tbody tr th:only-of-type {\n",
       "        vertical-align: middle;\n",
       "    }\n",
       "\n",
       "    .dataframe tbody tr th {\n",
       "        vertical-align: top;\n",
       "    }\n",
       "\n",
       "    .dataframe thead th {\n",
       "        text-align: right;\n",
       "    }\n",
       "</style>\n",
       "<table border=\"1\" class=\"dataframe\">\n",
       "  <thead>\n",
       "    <tr style=\"text-align: right;\">\n",
       "      <th></th>\n",
       "      <th>Formatted Date</th>\n",
       "      <th>Summary</th>\n",
       "      <th>Precip Type</th>\n",
       "      <th>Temperature (C)</th>\n",
       "      <th>Apparent Temperature (C)</th>\n",
       "      <th>Humidity</th>\n",
       "      <th>Wind Speed (km/h)</th>\n",
       "      <th>Wind Bearing (degrees)</th>\n",
       "      <th>Visibility (km)</th>\n",
       "      <th>Loud Cover</th>\n",
       "      <th>Pressure (millibars)</th>\n",
       "      <th>Daily Summary</th>\n",
       "    </tr>\n",
       "  </thead>\n",
       "  <tbody>\n",
       "    <tr>\n",
       "      <th>0</th>\n",
       "      <td>2006-04-01 00:00:00.000 +0200</td>\n",
       "      <td>Partly Cloudy</td>\n",
       "      <td>rain</td>\n",
       "      <td>9.472222</td>\n",
       "      <td>7.388889</td>\n",
       "      <td>0.89</td>\n",
       "      <td>14.1197</td>\n",
       "      <td>251</td>\n",
       "      <td>15.8263</td>\n",
       "      <td>0</td>\n",
       "      <td>1015.13</td>\n",
       "      <td>Partly cloudy throughout the day.</td>\n",
       "    </tr>\n",
       "    <tr>\n",
       "      <th>1</th>\n",
       "      <td>2006-04-01 01:00:00.000 +0200</td>\n",
       "      <td>Partly Cloudy</td>\n",
       "      <td>rain</td>\n",
       "      <td>9.355556</td>\n",
       "      <td>7.227778</td>\n",
       "      <td>0.86</td>\n",
       "      <td>14.2646</td>\n",
       "      <td>259</td>\n",
       "      <td>15.8263</td>\n",
       "      <td>0</td>\n",
       "      <td>1015.63</td>\n",
       "      <td>Partly cloudy throughout the day.</td>\n",
       "    </tr>\n",
       "    <tr>\n",
       "      <th>2</th>\n",
       "      <td>2006-04-01 02:00:00.000 +0200</td>\n",
       "      <td>Mostly Cloudy</td>\n",
       "      <td>rain</td>\n",
       "      <td>9.377778</td>\n",
       "      <td>9.377778</td>\n",
       "      <td>0.89</td>\n",
       "      <td>3.9284</td>\n",
       "      <td>204</td>\n",
       "      <td>14.9569</td>\n",
       "      <td>0</td>\n",
       "      <td>1015.94</td>\n",
       "      <td>Partly cloudy throughout the day.</td>\n",
       "    </tr>\n",
       "    <tr>\n",
       "      <th>3</th>\n",
       "      <td>2006-04-01 03:00:00.000 +0200</td>\n",
       "      <td>Partly Cloudy</td>\n",
       "      <td>rain</td>\n",
       "      <td>8.288889</td>\n",
       "      <td>5.944444</td>\n",
       "      <td>0.83</td>\n",
       "      <td>14.1036</td>\n",
       "      <td>269</td>\n",
       "      <td>15.8263</td>\n",
       "      <td>0</td>\n",
       "      <td>1016.41</td>\n",
       "      <td>Partly cloudy throughout the day.</td>\n",
       "    </tr>\n",
       "    <tr>\n",
       "      <th>4</th>\n",
       "      <td>2006-04-01 04:00:00.000 +0200</td>\n",
       "      <td>Mostly Cloudy</td>\n",
       "      <td>rain</td>\n",
       "      <td>8.755556</td>\n",
       "      <td>6.977778</td>\n",
       "      <td>0.83</td>\n",
       "      <td>11.0446</td>\n",
       "      <td>259</td>\n",
       "      <td>15.8263</td>\n",
       "      <td>0</td>\n",
       "      <td>1016.51</td>\n",
       "      <td>Partly cloudy throughout the day.</td>\n",
       "    </tr>\n",
       "  </tbody>\n",
       "</table>\n",
       "</div>"
      ],
      "text/plain": [
       "                  Formatted Date        Summary Precip Type  Temperature (C)  \\\n",
       "0  2006-04-01 00:00:00.000 +0200  Partly Cloudy        rain         9.472222   \n",
       "1  2006-04-01 01:00:00.000 +0200  Partly Cloudy        rain         9.355556   \n",
       "2  2006-04-01 02:00:00.000 +0200  Mostly Cloudy        rain         9.377778   \n",
       "3  2006-04-01 03:00:00.000 +0200  Partly Cloudy        rain         8.288889   \n",
       "4  2006-04-01 04:00:00.000 +0200  Mostly Cloudy        rain         8.755556   \n",
       "\n",
       "   Apparent Temperature (C)  Humidity  Wind Speed (km/h)  \\\n",
       "0                  7.388889      0.89            14.1197   \n",
       "1                  7.227778      0.86            14.2646   \n",
       "2                  9.377778      0.89             3.9284   \n",
       "3                  5.944444      0.83            14.1036   \n",
       "4                  6.977778      0.83            11.0446   \n",
       "\n",
       "   Wind Bearing (degrees)  Visibility (km)  Loud Cover  Pressure (millibars)  \\\n",
       "0                     251          15.8263           0               1015.13   \n",
       "1                     259          15.8263           0               1015.63   \n",
       "2                     204          14.9569           0               1015.94   \n",
       "3                     269          15.8263           0               1016.41   \n",
       "4                     259          15.8263           0               1016.51   \n",
       "\n",
       "                       Daily Summary  \n",
       "0  Partly cloudy throughout the day.  \n",
       "1  Partly cloudy throughout the day.  \n",
       "2  Partly cloudy throughout the day.  \n",
       "3  Partly cloudy throughout the day.  \n",
       "4  Partly cloudy throughout the day.  "
      ]
     },
     "execution_count": 31,
     "metadata": {},
     "output_type": "execute_result"
    }
   ],
   "source": [
    "df = pd.read_csv(\"weatherHistory.csv\")\n",
    "df.head()"
   ]
  },
  {
   "cell_type": "code",
   "execution_count": 3,
   "metadata": {},
   "outputs": [
    {
     "name": "stdout",
     "output_type": "stream",
     "text": [
      "<class 'pandas.core.frame.DataFrame'>\n",
      "RangeIndex: 96453 entries, 0 to 96452\n",
      "Data columns (total 12 columns):\n",
      " #   Column                    Non-Null Count  Dtype  \n",
      "---  ------                    --------------  -----  \n",
      " 0   Formatted Date            96453 non-null  object \n",
      " 1   Summary                   96453 non-null  object \n",
      " 2   Precip Type               95936 non-null  object \n",
      " 3   Temperature (C)           96453 non-null  float64\n",
      " 4   Apparent Temperature (C)  96453 non-null  float64\n",
      " 5   Humidity                  96453 non-null  float64\n",
      " 6   Wind Speed (km/h)         96453 non-null  float64\n",
      " 7   Wind Bearing (degrees)    96453 non-null  int64  \n",
      " 8   Visibility (km)           96453 non-null  float64\n",
      " 9   Loud Cover                96453 non-null  int64  \n",
      " 10  Pressure (millibars)      96453 non-null  float64\n",
      " 11  Daily Summary             96453 non-null  object \n",
      "dtypes: float64(6), int64(2), object(4)\n",
      "memory usage: 8.8+ MB\n"
     ]
    }
   ],
   "source": [
    "df.info()"
   ]
  },
  {
   "cell_type": "code",
   "execution_count": 4,
   "metadata": {},
   "outputs": [
    {
     "data": {
      "text/html": [
       "<div>\n",
       "<style scoped>\n",
       "    .dataframe tbody tr th:only-of-type {\n",
       "        vertical-align: middle;\n",
       "    }\n",
       "\n",
       "    .dataframe tbody tr th {\n",
       "        vertical-align: top;\n",
       "    }\n",
       "\n",
       "    .dataframe thead th {\n",
       "        text-align: right;\n",
       "    }\n",
       "</style>\n",
       "<table border=\"1\" class=\"dataframe\">\n",
       "  <thead>\n",
       "    <tr style=\"text-align: right;\">\n",
       "      <th></th>\n",
       "      <th>Temperature (C)</th>\n",
       "      <th>Apparent Temperature (C)</th>\n",
       "      <th>Humidity</th>\n",
       "      <th>Wind Speed (km/h)</th>\n",
       "      <th>Wind Bearing (degrees)</th>\n",
       "      <th>Visibility (km)</th>\n",
       "      <th>Loud Cover</th>\n",
       "      <th>Pressure (millibars)</th>\n",
       "    </tr>\n",
       "  </thead>\n",
       "  <tbody>\n",
       "    <tr>\n",
       "      <th>count</th>\n",
       "      <td>96453.000000</td>\n",
       "      <td>96453.000000</td>\n",
       "      <td>96453.000000</td>\n",
       "      <td>96453.000000</td>\n",
       "      <td>96453.000000</td>\n",
       "      <td>96453.000000</td>\n",
       "      <td>96453.0</td>\n",
       "      <td>96453.000000</td>\n",
       "    </tr>\n",
       "    <tr>\n",
       "      <th>mean</th>\n",
       "      <td>11.932678</td>\n",
       "      <td>10.855029</td>\n",
       "      <td>0.734899</td>\n",
       "      <td>10.810640</td>\n",
       "      <td>187.509232</td>\n",
       "      <td>10.347325</td>\n",
       "      <td>0.0</td>\n",
       "      <td>1003.235956</td>\n",
       "    </tr>\n",
       "    <tr>\n",
       "      <th>std</th>\n",
       "      <td>9.551546</td>\n",
       "      <td>10.696847</td>\n",
       "      <td>0.195473</td>\n",
       "      <td>6.913571</td>\n",
       "      <td>107.383428</td>\n",
       "      <td>4.192123</td>\n",
       "      <td>0.0</td>\n",
       "      <td>116.969906</td>\n",
       "    </tr>\n",
       "    <tr>\n",
       "      <th>min</th>\n",
       "      <td>-21.822222</td>\n",
       "      <td>-27.716667</td>\n",
       "      <td>0.000000</td>\n",
       "      <td>0.000000</td>\n",
       "      <td>0.000000</td>\n",
       "      <td>0.000000</td>\n",
       "      <td>0.0</td>\n",
       "      <td>0.000000</td>\n",
       "    </tr>\n",
       "    <tr>\n",
       "      <th>25%</th>\n",
       "      <td>4.688889</td>\n",
       "      <td>2.311111</td>\n",
       "      <td>0.600000</td>\n",
       "      <td>5.828200</td>\n",
       "      <td>116.000000</td>\n",
       "      <td>8.339800</td>\n",
       "      <td>0.0</td>\n",
       "      <td>1011.900000</td>\n",
       "    </tr>\n",
       "    <tr>\n",
       "      <th>50%</th>\n",
       "      <td>12.000000</td>\n",
       "      <td>12.000000</td>\n",
       "      <td>0.780000</td>\n",
       "      <td>9.965900</td>\n",
       "      <td>180.000000</td>\n",
       "      <td>10.046400</td>\n",
       "      <td>0.0</td>\n",
       "      <td>1016.450000</td>\n",
       "    </tr>\n",
       "    <tr>\n",
       "      <th>75%</th>\n",
       "      <td>18.838889</td>\n",
       "      <td>18.838889</td>\n",
       "      <td>0.890000</td>\n",
       "      <td>14.135800</td>\n",
       "      <td>290.000000</td>\n",
       "      <td>14.812000</td>\n",
       "      <td>0.0</td>\n",
       "      <td>1021.090000</td>\n",
       "    </tr>\n",
       "    <tr>\n",
       "      <th>max</th>\n",
       "      <td>39.905556</td>\n",
       "      <td>39.344444</td>\n",
       "      <td>1.000000</td>\n",
       "      <td>63.852600</td>\n",
       "      <td>359.000000</td>\n",
       "      <td>16.100000</td>\n",
       "      <td>0.0</td>\n",
       "      <td>1046.380000</td>\n",
       "    </tr>\n",
       "  </tbody>\n",
       "</table>\n",
       "</div>"
      ],
      "text/plain": [
       "       Temperature (C)  Apparent Temperature (C)      Humidity  \\\n",
       "count     96453.000000              96453.000000  96453.000000   \n",
       "mean         11.932678                 10.855029      0.734899   \n",
       "std           9.551546                 10.696847      0.195473   \n",
       "min         -21.822222                -27.716667      0.000000   \n",
       "25%           4.688889                  2.311111      0.600000   \n",
       "50%          12.000000                 12.000000      0.780000   \n",
       "75%          18.838889                 18.838889      0.890000   \n",
       "max          39.905556                 39.344444      1.000000   \n",
       "\n",
       "       Wind Speed (km/h)  Wind Bearing (degrees)  Visibility (km)  Loud Cover  \\\n",
       "count       96453.000000            96453.000000     96453.000000     96453.0   \n",
       "mean           10.810640              187.509232        10.347325         0.0   \n",
       "std             6.913571              107.383428         4.192123         0.0   \n",
       "min             0.000000                0.000000         0.000000         0.0   \n",
       "25%             5.828200              116.000000         8.339800         0.0   \n",
       "50%             9.965900              180.000000        10.046400         0.0   \n",
       "75%            14.135800              290.000000        14.812000         0.0   \n",
       "max            63.852600              359.000000        16.100000         0.0   \n",
       "\n",
       "       Pressure (millibars)  \n",
       "count          96453.000000  \n",
       "mean            1003.235956  \n",
       "std              116.969906  \n",
       "min                0.000000  \n",
       "25%             1011.900000  \n",
       "50%             1016.450000  \n",
       "75%             1021.090000  \n",
       "max             1046.380000  "
      ]
     },
     "execution_count": 4,
     "metadata": {},
     "output_type": "execute_result"
    }
   ],
   "source": [
    "df.describe()"
   ]
  },
  {
   "cell_type": "code",
   "execution_count": 5,
   "metadata": {},
   "outputs": [
    {
     "data": {
      "text/plain": [
       "Formatted Date                0\n",
       "Summary                       0\n",
       "Precip Type                 517\n",
       "Temperature (C)               0\n",
       "Apparent Temperature (C)      0\n",
       "Humidity                      0\n",
       "Wind Speed (km/h)             0\n",
       "Wind Bearing (degrees)        0\n",
       "Visibility (km)               0\n",
       "Loud Cover                    0\n",
       "Pressure (millibars)          0\n",
       "Daily Summary                 0\n",
       "dtype: int64"
      ]
     },
     "execution_count": 5,
     "metadata": {},
     "output_type": "execute_result"
    }
   ],
   "source": [
    "df.isnull().sum()"
   ]
  },
  {
   "cell_type": "code",
   "execution_count": 6,
   "metadata": {},
   "outputs": [
    {
     "data": {
      "text/plain": [
       "Formatted Date              0\n",
       "Summary                     0\n",
       "Precip Type                 0\n",
       "Temperature (C)             0\n",
       "Apparent Temperature (C)    0\n",
       "Humidity                    0\n",
       "Wind Speed (km/h)           0\n",
       "Wind Bearing (degrees)      0\n",
       "Visibility (km)             0\n",
       "Loud Cover                  0\n",
       "Pressure (millibars)        0\n",
       "Daily Summary               0\n",
       "dtype: int64"
      ]
     },
     "execution_count": 6,
     "metadata": {},
     "output_type": "execute_result"
    }
   ],
   "source": [
    "df=df.dropna()\n",
    "df.isnull().sum()"
   ]
  },
  {
   "cell_type": "code",
   "execution_count": 7,
   "metadata": {},
   "outputs": [
    {
     "data": {
      "text/plain": [
       "rain    85224\n",
       "snow    10712\n",
       "Name: Precip Type, dtype: int64"
      ]
     },
     "execution_count": 7,
     "metadata": {},
     "output_type": "execute_result"
    }
   ],
   "source": [
    "df['Precip Type'].value_counts()"
   ]
  },
  {
   "cell_type": "code",
   "execution_count": 33,
   "metadata": {},
   "outputs": [
    {
     "data": {
      "text/html": [
       "<div>\n",
       "<style scoped>\n",
       "    .dataframe tbody tr th:only-of-type {\n",
       "        vertical-align: middle;\n",
       "    }\n",
       "\n",
       "    .dataframe tbody tr th {\n",
       "        vertical-align: top;\n",
       "    }\n",
       "\n",
       "    .dataframe thead th {\n",
       "        text-align: right;\n",
       "    }\n",
       "</style>\n",
       "<table border=\"1\" class=\"dataframe\">\n",
       "  <thead>\n",
       "    <tr style=\"text-align: right;\">\n",
       "      <th></th>\n",
       "      <th>Formatted Date</th>\n",
       "      <th>Summary</th>\n",
       "      <th>Precip Type</th>\n",
       "      <th>Temperature (C)</th>\n",
       "      <th>Apparent Temperature (C)</th>\n",
       "      <th>Humidity</th>\n",
       "      <th>Wind Speed (km/h)</th>\n",
       "      <th>Wind Bearing (degrees)</th>\n",
       "      <th>Visibility (km)</th>\n",
       "      <th>Loud Cover</th>\n",
       "      <th>Pressure (millibars)</th>\n",
       "      <th>Daily Summary</th>\n",
       "    </tr>\n",
       "  </thead>\n",
       "  <tbody>\n",
       "    <tr>\n",
       "      <th>0</th>\n",
       "      <td>2006</td>\n",
       "      <td>Partly Cloudy</td>\n",
       "      <td>rain</td>\n",
       "      <td>9.472222</td>\n",
       "      <td>7.388889</td>\n",
       "      <td>0.89</td>\n",
       "      <td>14.1197</td>\n",
       "      <td>251</td>\n",
       "      <td>15.8263</td>\n",
       "      <td>0</td>\n",
       "      <td>1015.13</td>\n",
       "      <td>Partly cloudy throughout the day.</td>\n",
       "    </tr>\n",
       "    <tr>\n",
       "      <th>1</th>\n",
       "      <td>2006</td>\n",
       "      <td>Partly Cloudy</td>\n",
       "      <td>rain</td>\n",
       "      <td>9.355556</td>\n",
       "      <td>7.227778</td>\n",
       "      <td>0.86</td>\n",
       "      <td>14.2646</td>\n",
       "      <td>259</td>\n",
       "      <td>15.8263</td>\n",
       "      <td>0</td>\n",
       "      <td>1015.63</td>\n",
       "      <td>Partly cloudy throughout the day.</td>\n",
       "    </tr>\n",
       "    <tr>\n",
       "      <th>2</th>\n",
       "      <td>2006</td>\n",
       "      <td>Mostly Cloudy</td>\n",
       "      <td>rain</td>\n",
       "      <td>9.377778</td>\n",
       "      <td>9.377778</td>\n",
       "      <td>0.89</td>\n",
       "      <td>3.9284</td>\n",
       "      <td>204</td>\n",
       "      <td>14.9569</td>\n",
       "      <td>0</td>\n",
       "      <td>1015.94</td>\n",
       "      <td>Partly cloudy throughout the day.</td>\n",
       "    </tr>\n",
       "    <tr>\n",
       "      <th>3</th>\n",
       "      <td>2006</td>\n",
       "      <td>Partly Cloudy</td>\n",
       "      <td>rain</td>\n",
       "      <td>8.288889</td>\n",
       "      <td>5.944444</td>\n",
       "      <td>0.83</td>\n",
       "      <td>14.1036</td>\n",
       "      <td>269</td>\n",
       "      <td>15.8263</td>\n",
       "      <td>0</td>\n",
       "      <td>1016.41</td>\n",
       "      <td>Partly cloudy throughout the day.</td>\n",
       "    </tr>\n",
       "    <tr>\n",
       "      <th>4</th>\n",
       "      <td>2006</td>\n",
       "      <td>Mostly Cloudy</td>\n",
       "      <td>rain</td>\n",
       "      <td>8.755556</td>\n",
       "      <td>6.977778</td>\n",
       "      <td>0.83</td>\n",
       "      <td>11.0446</td>\n",
       "      <td>259</td>\n",
       "      <td>15.8263</td>\n",
       "      <td>0</td>\n",
       "      <td>1016.51</td>\n",
       "      <td>Partly cloudy throughout the day.</td>\n",
       "    </tr>\n",
       "  </tbody>\n",
       "</table>\n",
       "</div>"
      ],
      "text/plain": [
       "  Formatted Date        Summary Precip Type  Temperature (C)  \\\n",
       "0           2006  Partly Cloudy        rain         9.472222   \n",
       "1           2006  Partly Cloudy        rain         9.355556   \n",
       "2           2006  Mostly Cloudy        rain         9.377778   \n",
       "3           2006  Partly Cloudy        rain         8.288889   \n",
       "4           2006  Mostly Cloudy        rain         8.755556   \n",
       "\n",
       "   Apparent Temperature (C)  Humidity  Wind Speed (km/h)  \\\n",
       "0                  7.388889      0.89            14.1197   \n",
       "1                  7.227778      0.86            14.2646   \n",
       "2                  9.377778      0.89             3.9284   \n",
       "3                  5.944444      0.83            14.1036   \n",
       "4                  6.977778      0.83            11.0446   \n",
       "\n",
       "   Wind Bearing (degrees)  Visibility (km)  Loud Cover  Pressure (millibars)  \\\n",
       "0                     251          15.8263           0               1015.13   \n",
       "1                     259          15.8263           0               1015.63   \n",
       "2                     204          14.9569           0               1015.94   \n",
       "3                     269          15.8263           0               1016.41   \n",
       "4                     259          15.8263           0               1016.51   \n",
       "\n",
       "                       Daily Summary  \n",
       "0  Partly cloudy throughout the day.  \n",
       "1  Partly cloudy throughout the day.  \n",
       "2  Partly cloudy throughout the day.  \n",
       "3  Partly cloudy throughout the day.  \n",
       "4  Partly cloudy throughout the day.  "
      ]
     },
     "execution_count": 33,
     "metadata": {},
     "output_type": "execute_result"
    }
   ],
   "source": [
    "df['Formatted Date'] = df['Formatted Date'].str.split(\" \").str[0].str.split(\"-\").str[0]\n",
    "df.head()"
   ]
  },
  {
   "cell_type": "code",
   "execution_count": 34,
   "metadata": {},
   "outputs": [
    {
     "data": {
      "text/plain": [
       "2016    8784\n",
       "2012    8784\n",
       "2008    8784\n",
       "2010    8784\n",
       "2009    8760\n",
       "2007    8760\n",
       "2013    8760\n",
       "2011    8760\n",
       "2006    8760\n",
       "2015    8760\n",
       "2014    8757\n",
       "Name: Formatted Date, dtype: int64"
      ]
     },
     "execution_count": 34,
     "metadata": {},
     "output_type": "execute_result"
    }
   ],
   "source": [
    "df['Formatted Date'].value_counts()"
   ]
  },
  {
   "cell_type": "code",
   "execution_count": 35,
   "metadata": {},
   "outputs": [
    {
     "data": {
      "text/html": [
       "<div>\n",
       "<style scoped>\n",
       "    .dataframe tbody tr th:only-of-type {\n",
       "        vertical-align: middle;\n",
       "    }\n",
       "\n",
       "    .dataframe tbody tr th {\n",
       "        vertical-align: top;\n",
       "    }\n",
       "\n",
       "    .dataframe thead th {\n",
       "        text-align: right;\n",
       "    }\n",
       "</style>\n",
       "<table border=\"1\" class=\"dataframe\">\n",
       "  <thead>\n",
       "    <tr style=\"text-align: right;\">\n",
       "      <th></th>\n",
       "      <th>Temperature (C)</th>\n",
       "      <th>Apparent Temperature (C)</th>\n",
       "      <th>Humidity</th>\n",
       "      <th>Wind Speed (km/h)</th>\n",
       "      <th>Wind Bearing (degrees)</th>\n",
       "      <th>Visibility (km)</th>\n",
       "      <th>Loud Cover</th>\n",
       "      <th>Pressure (millibars)</th>\n",
       "    </tr>\n",
       "  </thead>\n",
       "  <tbody>\n",
       "    <tr>\n",
       "      <th>count</th>\n",
       "      <td>96453.000000</td>\n",
       "      <td>96453.000000</td>\n",
       "      <td>96453.000000</td>\n",
       "      <td>96453.000000</td>\n",
       "      <td>96453.000000</td>\n",
       "      <td>96453.000000</td>\n",
       "      <td>96453.0</td>\n",
       "      <td>96453.000000</td>\n",
       "    </tr>\n",
       "    <tr>\n",
       "      <th>mean</th>\n",
       "      <td>11.932678</td>\n",
       "      <td>10.855029</td>\n",
       "      <td>0.734899</td>\n",
       "      <td>10.810640</td>\n",
       "      <td>187.509232</td>\n",
       "      <td>10.347325</td>\n",
       "      <td>0.0</td>\n",
       "      <td>1003.235956</td>\n",
       "    </tr>\n",
       "    <tr>\n",
       "      <th>std</th>\n",
       "      <td>9.551546</td>\n",
       "      <td>10.696847</td>\n",
       "      <td>0.195473</td>\n",
       "      <td>6.913571</td>\n",
       "      <td>107.383428</td>\n",
       "      <td>4.192123</td>\n",
       "      <td>0.0</td>\n",
       "      <td>116.969906</td>\n",
       "    </tr>\n",
       "    <tr>\n",
       "      <th>min</th>\n",
       "      <td>-21.822222</td>\n",
       "      <td>-27.716667</td>\n",
       "      <td>0.000000</td>\n",
       "      <td>0.000000</td>\n",
       "      <td>0.000000</td>\n",
       "      <td>0.000000</td>\n",
       "      <td>0.0</td>\n",
       "      <td>0.000000</td>\n",
       "    </tr>\n",
       "    <tr>\n",
       "      <th>25%</th>\n",
       "      <td>4.688889</td>\n",
       "      <td>2.311111</td>\n",
       "      <td>0.600000</td>\n",
       "      <td>5.828200</td>\n",
       "      <td>116.000000</td>\n",
       "      <td>8.339800</td>\n",
       "      <td>0.0</td>\n",
       "      <td>1011.900000</td>\n",
       "    </tr>\n",
       "    <tr>\n",
       "      <th>50%</th>\n",
       "      <td>12.000000</td>\n",
       "      <td>12.000000</td>\n",
       "      <td>0.780000</td>\n",
       "      <td>9.965900</td>\n",
       "      <td>180.000000</td>\n",
       "      <td>10.046400</td>\n",
       "      <td>0.0</td>\n",
       "      <td>1016.450000</td>\n",
       "    </tr>\n",
       "    <tr>\n",
       "      <th>75%</th>\n",
       "      <td>18.838889</td>\n",
       "      <td>18.838889</td>\n",
       "      <td>0.890000</td>\n",
       "      <td>14.135800</td>\n",
       "      <td>290.000000</td>\n",
       "      <td>14.812000</td>\n",
       "      <td>0.0</td>\n",
       "      <td>1021.090000</td>\n",
       "    </tr>\n",
       "    <tr>\n",
       "      <th>max</th>\n",
       "      <td>39.905556</td>\n",
       "      <td>39.344444</td>\n",
       "      <td>1.000000</td>\n",
       "      <td>63.852600</td>\n",
       "      <td>359.000000</td>\n",
       "      <td>16.100000</td>\n",
       "      <td>0.0</td>\n",
       "      <td>1046.380000</td>\n",
       "    </tr>\n",
       "  </tbody>\n",
       "</table>\n",
       "</div>"
      ],
      "text/plain": [
       "       Temperature (C)  Apparent Temperature (C)      Humidity  \\\n",
       "count     96453.000000              96453.000000  96453.000000   \n",
       "mean         11.932678                 10.855029      0.734899   \n",
       "std           9.551546                 10.696847      0.195473   \n",
       "min         -21.822222                -27.716667      0.000000   \n",
       "25%           4.688889                  2.311111      0.600000   \n",
       "50%          12.000000                 12.000000      0.780000   \n",
       "75%          18.838889                 18.838889      0.890000   \n",
       "max          39.905556                 39.344444      1.000000   \n",
       "\n",
       "       Wind Speed (km/h)  Wind Bearing (degrees)  Visibility (km)  Loud Cover  \\\n",
       "count       96453.000000            96453.000000     96453.000000     96453.0   \n",
       "mean           10.810640              187.509232        10.347325         0.0   \n",
       "std             6.913571              107.383428         4.192123         0.0   \n",
       "min             0.000000                0.000000         0.000000         0.0   \n",
       "25%             5.828200              116.000000         8.339800         0.0   \n",
       "50%             9.965900              180.000000        10.046400         0.0   \n",
       "75%            14.135800              290.000000        14.812000         0.0   \n",
       "max            63.852600              359.000000        16.100000         0.0   \n",
       "\n",
       "       Pressure (millibars)  \n",
       "count          96453.000000  \n",
       "mean            1003.235956  \n",
       "std              116.969906  \n",
       "min                0.000000  \n",
       "25%             1011.900000  \n",
       "50%             1016.450000  \n",
       "75%             1021.090000  \n",
       "max             1046.380000  "
      ]
     },
     "execution_count": 35,
     "metadata": {},
     "output_type": "execute_result"
    }
   ],
   "source": [
    "df.describe()"
   ]
  },
  {
   "cell_type": "code",
   "execution_count": 45,
   "metadata": {},
   "outputs": [
    {
     "data": {
      "text/html": [
       "<div>\n",
       "<style scoped>\n",
       "    .dataframe tbody tr th:only-of-type {\n",
       "        vertical-align: middle;\n",
       "    }\n",
       "\n",
       "    .dataframe tbody tr th {\n",
       "        vertical-align: top;\n",
       "    }\n",
       "\n",
       "    .dataframe thead th {\n",
       "        text-align: right;\n",
       "    }\n",
       "</style>\n",
       "<table border=\"1\" class=\"dataframe\">\n",
       "  <thead>\n",
       "    <tr style=\"text-align: right;\">\n",
       "      <th></th>\n",
       "      <th>Year</th>\n",
       "      <th>Summary</th>\n",
       "      <th>Precip Type</th>\n",
       "      <th>Temperature (C)</th>\n",
       "      <th>Apparent Temperature (C)</th>\n",
       "      <th>Humidity</th>\n",
       "      <th>Wind Speed (km/h)</th>\n",
       "      <th>Wind Bearing (degrees)</th>\n",
       "      <th>Visibility (km)</th>\n",
       "      <th>Loud Cover</th>\n",
       "      <th>Pressure (millibars)</th>\n",
       "      <th>Daily Summary</th>\n",
       "    </tr>\n",
       "  </thead>\n",
       "  <tbody>\n",
       "    <tr>\n",
       "      <th>0</th>\n",
       "      <td>2006</td>\n",
       "      <td>Partly Cloudy</td>\n",
       "      <td>rain</td>\n",
       "      <td>9.472222</td>\n",
       "      <td>7.388889</td>\n",
       "      <td>0.89</td>\n",
       "      <td>14.1197</td>\n",
       "      <td>251</td>\n",
       "      <td>15.8263</td>\n",
       "      <td>0</td>\n",
       "      <td>1015.13</td>\n",
       "      <td>Partly cloudy throughout the day.</td>\n",
       "    </tr>\n",
       "    <tr>\n",
       "      <th>1</th>\n",
       "      <td>2006</td>\n",
       "      <td>Partly Cloudy</td>\n",
       "      <td>rain</td>\n",
       "      <td>9.355556</td>\n",
       "      <td>7.227778</td>\n",
       "      <td>0.86</td>\n",
       "      <td>14.2646</td>\n",
       "      <td>259</td>\n",
       "      <td>15.8263</td>\n",
       "      <td>0</td>\n",
       "      <td>1015.63</td>\n",
       "      <td>Partly cloudy throughout the day.</td>\n",
       "    </tr>\n",
       "    <tr>\n",
       "      <th>2</th>\n",
       "      <td>2006</td>\n",
       "      <td>Mostly Cloudy</td>\n",
       "      <td>rain</td>\n",
       "      <td>9.377778</td>\n",
       "      <td>9.377778</td>\n",
       "      <td>0.89</td>\n",
       "      <td>3.9284</td>\n",
       "      <td>204</td>\n",
       "      <td>14.9569</td>\n",
       "      <td>0</td>\n",
       "      <td>1015.94</td>\n",
       "      <td>Partly cloudy throughout the day.</td>\n",
       "    </tr>\n",
       "    <tr>\n",
       "      <th>3</th>\n",
       "      <td>2006</td>\n",
       "      <td>Partly Cloudy</td>\n",
       "      <td>rain</td>\n",
       "      <td>8.288889</td>\n",
       "      <td>5.944444</td>\n",
       "      <td>0.83</td>\n",
       "      <td>14.1036</td>\n",
       "      <td>269</td>\n",
       "      <td>15.8263</td>\n",
       "      <td>0</td>\n",
       "      <td>1016.41</td>\n",
       "      <td>Partly cloudy throughout the day.</td>\n",
       "    </tr>\n",
       "    <tr>\n",
       "      <th>4</th>\n",
       "      <td>2006</td>\n",
       "      <td>Mostly Cloudy</td>\n",
       "      <td>rain</td>\n",
       "      <td>8.755556</td>\n",
       "      <td>6.977778</td>\n",
       "      <td>0.83</td>\n",
       "      <td>11.0446</td>\n",
       "      <td>259</td>\n",
       "      <td>15.8263</td>\n",
       "      <td>0</td>\n",
       "      <td>1016.51</td>\n",
       "      <td>Partly cloudy throughout the day.</td>\n",
       "    </tr>\n",
       "  </tbody>\n",
       "</table>\n",
       "</div>"
      ],
      "text/plain": [
       "   Year        Summary Precip Type  Temperature (C)  Apparent Temperature (C)  \\\n",
       "0  2006  Partly Cloudy        rain         9.472222                  7.388889   \n",
       "1  2006  Partly Cloudy        rain         9.355556                  7.227778   \n",
       "2  2006  Mostly Cloudy        rain         9.377778                  9.377778   \n",
       "3  2006  Partly Cloudy        rain         8.288889                  5.944444   \n",
       "4  2006  Mostly Cloudy        rain         8.755556                  6.977778   \n",
       "\n",
       "   Humidity  Wind Speed (km/h)  Wind Bearing (degrees)  Visibility (km)  \\\n",
       "0      0.89            14.1197                     251          15.8263   \n",
       "1      0.86            14.2646                     259          15.8263   \n",
       "2      0.89             3.9284                     204          14.9569   \n",
       "3      0.83            14.1036                     269          15.8263   \n",
       "4      0.83            11.0446                     259          15.8263   \n",
       "\n",
       "   Loud Cover  Pressure (millibars)                      Daily Summary  \n",
       "0           0               1015.13  Partly cloudy throughout the day.  \n",
       "1           0               1015.63  Partly cloudy throughout the day.  \n",
       "2           0               1015.94  Partly cloudy throughout the day.  \n",
       "3           0               1016.41  Partly cloudy throughout the day.  \n",
       "4           0               1016.51  Partly cloudy throughout the day.  "
      ]
     },
     "execution_count": 45,
     "metadata": {},
     "output_type": "execute_result"
    }
   ],
   "source": [
    "df = df.rename(columns={\"Formatted Date\":\"Year\"})\n",
    "df.head()"
   ]
  },
  {
   "cell_type": "code",
   "execution_count": 60,
   "metadata": {},
   "outputs": [
    {
     "data": {
      "text/html": [
       "<div>\n",
       "<style scoped>\n",
       "    .dataframe tbody tr th:only-of-type {\n",
       "        vertical-align: middle;\n",
       "    }\n",
       "\n",
       "    .dataframe tbody tr th {\n",
       "        vertical-align: top;\n",
       "    }\n",
       "\n",
       "    .dataframe thead th {\n",
       "        text-align: right;\n",
       "    }\n",
       "</style>\n",
       "<table border=\"1\" class=\"dataframe\">\n",
       "  <thead>\n",
       "    <tr style=\"text-align: right;\">\n",
       "      <th></th>\n",
       "      <th>Year</th>\n",
       "      <th>Summary</th>\n",
       "      <th>Precip Type</th>\n",
       "      <th>Temperature (C)</th>\n",
       "      <th>Apparent Temperature (C)</th>\n",
       "      <th>Humidity</th>\n",
       "      <th>Wind Speed (km/h)</th>\n",
       "      <th>Wind Bearing (degrees)</th>\n",
       "      <th>Visibility (km)</th>\n",
       "      <th>Pressure (millibars)</th>\n",
       "      <th>Daily Summary</th>\n",
       "    </tr>\n",
       "  </thead>\n",
       "  <tbody>\n",
       "    <tr>\n",
       "      <th>0</th>\n",
       "      <td>2006</td>\n",
       "      <td>Partly Cloudy</td>\n",
       "      <td>rain</td>\n",
       "      <td>9.472222</td>\n",
       "      <td>7.388889</td>\n",
       "      <td>0.89</td>\n",
       "      <td>14.1197</td>\n",
       "      <td>251</td>\n",
       "      <td>15.8263</td>\n",
       "      <td>1015.13</td>\n",
       "      <td>Partly cloudy throughout the day.</td>\n",
       "    </tr>\n",
       "    <tr>\n",
       "      <th>1</th>\n",
       "      <td>2006</td>\n",
       "      <td>Partly Cloudy</td>\n",
       "      <td>rain</td>\n",
       "      <td>9.355556</td>\n",
       "      <td>7.227778</td>\n",
       "      <td>0.86</td>\n",
       "      <td>14.2646</td>\n",
       "      <td>259</td>\n",
       "      <td>15.8263</td>\n",
       "      <td>1015.63</td>\n",
       "      <td>Partly cloudy throughout the day.</td>\n",
       "    </tr>\n",
       "    <tr>\n",
       "      <th>2</th>\n",
       "      <td>2006</td>\n",
       "      <td>Mostly Cloudy</td>\n",
       "      <td>rain</td>\n",
       "      <td>9.377778</td>\n",
       "      <td>9.377778</td>\n",
       "      <td>0.89</td>\n",
       "      <td>3.9284</td>\n",
       "      <td>204</td>\n",
       "      <td>14.9569</td>\n",
       "      <td>1015.94</td>\n",
       "      <td>Partly cloudy throughout the day.</td>\n",
       "    </tr>\n",
       "    <tr>\n",
       "      <th>3</th>\n",
       "      <td>2006</td>\n",
       "      <td>Partly Cloudy</td>\n",
       "      <td>rain</td>\n",
       "      <td>8.288889</td>\n",
       "      <td>5.944444</td>\n",
       "      <td>0.83</td>\n",
       "      <td>14.1036</td>\n",
       "      <td>269</td>\n",
       "      <td>15.8263</td>\n",
       "      <td>1016.41</td>\n",
       "      <td>Partly cloudy throughout the day.</td>\n",
       "    </tr>\n",
       "    <tr>\n",
       "      <th>4</th>\n",
       "      <td>2006</td>\n",
       "      <td>Mostly Cloudy</td>\n",
       "      <td>rain</td>\n",
       "      <td>8.755556</td>\n",
       "      <td>6.977778</td>\n",
       "      <td>0.83</td>\n",
       "      <td>11.0446</td>\n",
       "      <td>259</td>\n",
       "      <td>15.8263</td>\n",
       "      <td>1016.51</td>\n",
       "      <td>Partly cloudy throughout the day.</td>\n",
       "    </tr>\n",
       "  </tbody>\n",
       "</table>\n",
       "</div>"
      ],
      "text/plain": [
       "   Year        Summary Precip Type  Temperature (C)  Apparent Temperature (C)  \\\n",
       "0  2006  Partly Cloudy        rain         9.472222                  7.388889   \n",
       "1  2006  Partly Cloudy        rain         9.355556                  7.227778   \n",
       "2  2006  Mostly Cloudy        rain         9.377778                  9.377778   \n",
       "3  2006  Partly Cloudy        rain         8.288889                  5.944444   \n",
       "4  2006  Mostly Cloudy        rain         8.755556                  6.977778   \n",
       "\n",
       "   Humidity  Wind Speed (km/h)  Wind Bearing (degrees)  Visibility (km)  \\\n",
       "0      0.89            14.1197                     251          15.8263   \n",
       "1      0.86            14.2646                     259          15.8263   \n",
       "2      0.89             3.9284                     204          14.9569   \n",
       "3      0.83            14.1036                     269          15.8263   \n",
       "4      0.83            11.0446                     259          15.8263   \n",
       "\n",
       "   Pressure (millibars)                      Daily Summary  \n",
       "0               1015.13  Partly cloudy throughout the day.  \n",
       "1               1015.63  Partly cloudy throughout the day.  \n",
       "2               1015.94  Partly cloudy throughout the day.  \n",
       "3               1016.41  Partly cloudy throughout the day.  \n",
       "4               1016.51  Partly cloudy throughout the day.  "
      ]
     },
     "execution_count": 60,
     "metadata": {},
     "output_type": "execute_result"
    }
   ],
   "source": [
    "df = df.drop(['Loud Cover'],axis=1)\n",
    "df.head()"
   ]
  },
  {
   "cell_type": "markdown",
   "metadata": {},
   "source": [
    "## Analysis for year 2006"
   ]
  },
  {
   "cell_type": "code",
   "execution_count": 61,
   "metadata": {},
   "outputs": [
    {
     "data": {
      "text/plain": [
       "(8784, 11)"
      ]
     },
     "execution_count": 61,
     "metadata": {},
     "output_type": "execute_result"
    }
   ],
   "source": [
    "a = df[df['Year']=='2016']\n",
    "a.shape"
   ]
  },
  {
   "cell_type": "code",
   "execution_count": 62,
   "metadata": {},
   "outputs": [
    {
     "name": "stdout",
     "output_type": "stream",
     "text": [
      "<class 'pandas.core.frame.DataFrame'>\n",
      "Int64Index: 8784 entries, 87669 to 96452\n",
      "Data columns (total 11 columns):\n",
      " #   Column                    Non-Null Count  Dtype  \n",
      "---  ------                    --------------  -----  \n",
      " 0   Year                      8784 non-null   object \n",
      " 1   Summary                   8784 non-null   object \n",
      " 2   Precip Type               8410 non-null   object \n",
      " 3   Temperature (C)           8784 non-null   float64\n",
      " 4   Apparent Temperature (C)  8784 non-null   float64\n",
      " 5   Humidity                  8784 non-null   float64\n",
      " 6   Wind Speed (km/h)         8784 non-null   float64\n",
      " 7   Wind Bearing (degrees)    8784 non-null   int64  \n",
      " 8   Visibility (km)           8784 non-null   float64\n",
      " 9   Pressure (millibars)      8784 non-null   float64\n",
      " 10  Daily Summary             8784 non-null   object \n",
      "dtypes: float64(6), int64(1), object(4)\n",
      "memory usage: 823.5+ KB\n"
     ]
    }
   ],
   "source": [
    "a.info()"
   ]
  },
  {
   "cell_type": "code",
   "execution_count": 63,
   "metadata": {},
   "outputs": [
    {
     "data": {
      "text/plain": [
       "11.98529207144012"
      ]
     },
     "execution_count": 63,
     "metadata": {},
     "output_type": "execute_result"
    }
   ],
   "source": [
    "a['Temperature (C)'].mean()"
   ]
  },
  {
   "cell_type": "code",
   "execution_count": 64,
   "metadata": {},
   "outputs": [
    {
     "data": {
      "text/plain": [
       "10.703440926684888"
      ]
     },
     "execution_count": 64,
     "metadata": {},
     "output_type": "execute_result"
    }
   ],
   "source": [
    "a['Wind Speed (km/h)'].mean()"
   ]
  },
  {
   "cell_type": "code",
   "execution_count": 65,
   "metadata": {},
   "outputs": [
    {
     "data": {
      "text/html": [
       "<div>\n",
       "<style scoped>\n",
       "    .dataframe tbody tr th:only-of-type {\n",
       "        vertical-align: middle;\n",
       "    }\n",
       "\n",
       "    .dataframe tbody tr th {\n",
       "        vertical-align: top;\n",
       "    }\n",
       "\n",
       "    .dataframe thead th {\n",
       "        text-align: right;\n",
       "    }\n",
       "</style>\n",
       "<table border=\"1\" class=\"dataframe\">\n",
       "  <thead>\n",
       "    <tr style=\"text-align: right;\">\n",
       "      <th></th>\n",
       "      <th>Temperature (C)</th>\n",
       "      <th>Apparent Temperature (C)</th>\n",
       "      <th>Humidity</th>\n",
       "      <th>Wind Speed (km/h)</th>\n",
       "      <th>Wind Bearing (degrees)</th>\n",
       "      <th>Visibility (km)</th>\n",
       "      <th>Pressure (millibars)</th>\n",
       "    </tr>\n",
       "  </thead>\n",
       "  <tbody>\n",
       "    <tr>\n",
       "      <th>count</th>\n",
       "      <td>8784.000000</td>\n",
       "      <td>8784.000000</td>\n",
       "      <td>8784.000000</td>\n",
       "      <td>8784.000000</td>\n",
       "      <td>8784.000000</td>\n",
       "      <td>8784.000000</td>\n",
       "      <td>8784.000000</td>\n",
       "    </tr>\n",
       "    <tr>\n",
       "      <th>mean</th>\n",
       "      <td>11.985292</td>\n",
       "      <td>10.832629</td>\n",
       "      <td>0.760874</td>\n",
       "      <td>10.703441</td>\n",
       "      <td>185.438069</td>\n",
       "      <td>11.249668</td>\n",
       "      <td>1015.162161</td>\n",
       "    </tr>\n",
       "    <tr>\n",
       "      <th>std</th>\n",
       "      <td>9.031028</td>\n",
       "      <td>10.232430</td>\n",
       "      <td>0.182259</td>\n",
       "      <td>6.148946</td>\n",
       "      <td>101.045234</td>\n",
       "      <td>4.550629</td>\n",
       "      <td>34.916543</td>\n",
       "    </tr>\n",
       "    <tr>\n",
       "      <th>min</th>\n",
       "      <td>-10.133333</td>\n",
       "      <td>-17.222222</td>\n",
       "      <td>0.230000</td>\n",
       "      <td>0.000000</td>\n",
       "      <td>0.000000</td>\n",
       "      <td>0.000000</td>\n",
       "      <td>0.000000</td>\n",
       "    </tr>\n",
       "    <tr>\n",
       "      <th>25%</th>\n",
       "      <td>4.788889</td>\n",
       "      <td>2.255556</td>\n",
       "      <td>0.650000</td>\n",
       "      <td>6.359500</td>\n",
       "      <td>132.000000</td>\n",
       "      <td>8.404200</td>\n",
       "      <td>1012.900000</td>\n",
       "    </tr>\n",
       "    <tr>\n",
       "      <th>50%</th>\n",
       "      <td>11.086111</td>\n",
       "      <td>11.086111</td>\n",
       "      <td>0.810000</td>\n",
       "      <td>10.062500</td>\n",
       "      <td>175.000000</td>\n",
       "      <td>10.352300</td>\n",
       "      <td>1017.080000</td>\n",
       "    </tr>\n",
       "    <tr>\n",
       "      <th>75%</th>\n",
       "      <td>18.800000</td>\n",
       "      <td>18.800000</td>\n",
       "      <td>0.900000</td>\n",
       "      <td>13.894300</td>\n",
       "      <td>275.000000</td>\n",
       "      <td>15.649200</td>\n",
       "      <td>1019.980000</td>\n",
       "    </tr>\n",
       "    <tr>\n",
       "      <th>max</th>\n",
       "      <td>34.811111</td>\n",
       "      <td>37.005556</td>\n",
       "      <td>1.000000</td>\n",
       "      <td>38.833200</td>\n",
       "      <td>359.000000</td>\n",
       "      <td>16.100000</td>\n",
       "      <td>1038.010000</td>\n",
       "    </tr>\n",
       "  </tbody>\n",
       "</table>\n",
       "</div>"
      ],
      "text/plain": [
       "       Temperature (C)  Apparent Temperature (C)     Humidity  \\\n",
       "count      8784.000000               8784.000000  8784.000000   \n",
       "mean         11.985292                 10.832629     0.760874   \n",
       "std           9.031028                 10.232430     0.182259   \n",
       "min         -10.133333                -17.222222     0.230000   \n",
       "25%           4.788889                  2.255556     0.650000   \n",
       "50%          11.086111                 11.086111     0.810000   \n",
       "75%          18.800000                 18.800000     0.900000   \n",
       "max          34.811111                 37.005556     1.000000   \n",
       "\n",
       "       Wind Speed (km/h)  Wind Bearing (degrees)  Visibility (km)  \\\n",
       "count        8784.000000             8784.000000      8784.000000   \n",
       "mean           10.703441              185.438069        11.249668   \n",
       "std             6.148946              101.045234         4.550629   \n",
       "min             0.000000                0.000000         0.000000   \n",
       "25%             6.359500              132.000000         8.404200   \n",
       "50%            10.062500              175.000000        10.352300   \n",
       "75%            13.894300              275.000000        15.649200   \n",
       "max            38.833200              359.000000        16.100000   \n",
       "\n",
       "       Pressure (millibars)  \n",
       "count           8784.000000  \n",
       "mean            1015.162161  \n",
       "std               34.916543  \n",
       "min                0.000000  \n",
       "25%             1012.900000  \n",
       "50%             1017.080000  \n",
       "75%             1019.980000  \n",
       "max             1038.010000  "
      ]
     },
     "execution_count": 65,
     "metadata": {},
     "output_type": "execute_result"
    }
   ],
   "source": [
    "a.describe()"
   ]
  },
  {
   "cell_type": "code",
   "execution_count": 56,
   "metadata": {},
   "outputs": [
    {
     "data": {
      "text/plain": [
       "44.94444444"
      ]
     },
     "execution_count": 56,
     "metadata": {},
     "output_type": "execute_result"
    }
   ],
   "source": [
    "temp_range_2006 = a['Temperature (C)'].max() - a['Temperature (C)'].min()\n",
    "temp_range_2006"
   ]
  },
  {
   "cell_type": "markdown",
   "metadata": {},
   "source": [
    "This shows that the range of the temperature was from -10<sup>o</sup>C to 34.8<sup>o</sup>C i.e. there was change in temperature of ~45<sup>o</sup>C"
   ]
  },
  {
   "cell_type": "code",
   "execution_count": 55,
   "metadata": {},
   "outputs": [
    {
     "data": {
      "text/plain": [
       "0.77"
      ]
     },
     "execution_count": 55,
     "metadata": {},
     "output_type": "execute_result"
    }
   ],
   "source": [
    "humidity_range_2006 = a['Humidity'].max() - a['Humidity'].min()\n",
    "humidity_range_2006"
   ]
  },
  {
   "cell_type": "markdown",
   "metadata": {},
   "source": [
    "This shows that the range of the humidity was from 0.76 to 1 i.e. there was change in humidity of 0.77."
   ]
  },
  {
   "cell_type": "markdown",
   "metadata": {},
   "source": [
    "Similarly the range of the pressure was from 0(millibars) to 1038.01(millibars) i.e. there was change in pressure of 1038.01(milibars)"
   ]
  },
  {
   "cell_type": "code",
   "execution_count": 74,
   "metadata": {},
   "outputs": [
    {
     "data": {
      "text/plain": [
       "<matplotlib.axes._subplots.AxesSubplot at 0xa76006a850>"
      ]
     },
     "execution_count": 74,
     "metadata": {},
     "output_type": "execute_result"
    },
    {
     "data": {
      "image/png": "[encoded data removed]",
      "text/plain": [
       "<Figure size 1440x720 with 2 Axes>"
      ]
     },
     "metadata": {
      "needs_background": "light"
     },
     "output_type": "display_data"
    }
   ],
   "source": [
    "plt.figure(figsize=[20,10])\n",
    "sns.heatmap(a.corr(),cmap='coolwarm',annot=True)"
   ]
  },
  {
   "cell_type": "markdown",
   "metadata": {},
   "source": [
    "### Observations:\n",
    "\n",
    "<b>Positive Correlation</b>\n",
    "\n",
    "- Visibility and Temperature : 0.48\n",
    "- Wind Bearing and Wind Speed : 0.08\n",
    "\n",
    "<b>Negative Correlation</b>\n",
    "\n",
    "- Pressure and Temperature : -0.021\n",
    "\n",
    "The positive relationship shows that with the increase in the temperature there is a increase in visibility. Similarly for Wind speed and wind bearing which shows that as the wind speed increase direction of the wind changes drastically.\n",
    "\n",
    "The negative relationship shows that with increase in temperature the pressure decreased in 2006."
   ]
  },
  {
   "cell_type": "markdown",
   "metadata": {},
   "source": [
    "## Analysis of year 2007"
   ]
  },
  {
   "cell_type": "code",
   "execution_count": 67,
   "metadata": {},
   "outputs": [
    {
     "data": {
      "text/plain": [
       "(8760, 11)"
      ]
     },
     "execution_count": 67,
     "metadata": {},
     "output_type": "execute_result"
    }
   ],
   "source": [
    "b = df[df['Year']=='2007']\n",
    "b.shape"
   ]
  },
  {
   "cell_type": "code",
   "execution_count": 68,
   "metadata": {},
   "outputs": [
    {
     "name": "stdout",
     "output_type": "stream",
     "text": [
      "<class 'pandas.core.frame.DataFrame'>\n",
      "Int64Index: 8760 entries, 8784 to 17543\n",
      "Data columns (total 11 columns):\n",
      " #   Column                    Non-Null Count  Dtype  \n",
      "---  ------                    --------------  -----  \n",
      " 0   Year                      8760 non-null   object \n",
      " 1   Summary                   8760 non-null   object \n",
      " 2   Precip Type               8760 non-null   object \n",
      " 3   Temperature (C)           8760 non-null   float64\n",
      " 4   Apparent Temperature (C)  8760 non-null   float64\n",
      " 5   Humidity                  8760 non-null   float64\n",
      " 6   Wind Speed (km/h)         8760 non-null   float64\n",
      " 7   Wind Bearing (degrees)    8760 non-null   int64  \n",
      " 8   Visibility (km)           8760 non-null   float64\n",
      " 9   Pressure (millibars)      8760 non-null   float64\n",
      " 10  Daily Summary             8760 non-null   object \n",
      "dtypes: float64(6), int64(1), object(4)\n",
      "memory usage: 821.2+ KB\n"
     ]
    }
   ],
   "source": [
    "b.info()"
   ]
  },
  {
   "cell_type": "code",
   "execution_count": 69,
   "metadata": {},
   "outputs": [
    {
     "data": {
      "text/html": [
       "<div>\n",
       "<style scoped>\n",
       "    .dataframe tbody tr th:only-of-type {\n",
       "        vertical-align: middle;\n",
       "    }\n",
       "\n",
       "    .dataframe tbody tr th {\n",
       "        vertical-align: top;\n",
       "    }\n",
       "\n",
       "    .dataframe thead th {\n",
       "        text-align: right;\n",
       "    }\n",
       "</style>\n",
       "<table border=\"1\" class=\"dataframe\">\n",
       "  <thead>\n",
       "    <tr style=\"text-align: right;\">\n",
       "      <th></th>\n",
       "      <th>Temperature (C)</th>\n",
       "      <th>Apparent Temperature (C)</th>\n",
       "      <th>Humidity</th>\n",
       "      <th>Wind Speed (km/h)</th>\n",
       "      <th>Wind Bearing (degrees)</th>\n",
       "      <th>Visibility (km)</th>\n",
       "      <th>Pressure (millibars)</th>\n",
       "    </tr>\n",
       "  </thead>\n",
       "  <tbody>\n",
       "    <tr>\n",
       "      <th>count</th>\n",
       "      <td>8760.000000</td>\n",
       "      <td>8760.000000</td>\n",
       "      <td>8760.000000</td>\n",
       "      <td>8760.000000</td>\n",
       "      <td>8760.000000</td>\n",
       "      <td>8760.000000</td>\n",
       "      <td>8760.000000</td>\n",
       "    </tr>\n",
       "    <tr>\n",
       "      <th>mean</th>\n",
       "      <td>12.135239</td>\n",
       "      <td>11.063135</td>\n",
       "      <td>0.689652</td>\n",
       "      <td>10.825392</td>\n",
       "      <td>194.119292</td>\n",
       "      <td>10.408191</td>\n",
       "      <td>1001.640226</td>\n",
       "    </tr>\n",
       "    <tr>\n",
       "      <th>std</th>\n",
       "      <td>9.384045</td>\n",
       "      <td>10.283586</td>\n",
       "      <td>0.199648</td>\n",
       "      <td>6.970801</td>\n",
       "      <td>105.558299</td>\n",
       "      <td>3.647454</td>\n",
       "      <td>125.100009</td>\n",
       "    </tr>\n",
       "    <tr>\n",
       "      <th>min</th>\n",
       "      <td>-10.155556</td>\n",
       "      <td>-12.422222</td>\n",
       "      <td>0.130000</td>\n",
       "      <td>0.000000</td>\n",
       "      <td>0.000000</td>\n",
       "      <td>0.000000</td>\n",
       "      <td>0.000000</td>\n",
       "    </tr>\n",
       "    <tr>\n",
       "      <th>25%</th>\n",
       "      <td>5.033333</td>\n",
       "      <td>2.888889</td>\n",
       "      <td>0.550000</td>\n",
       "      <td>5.747700</td>\n",
       "      <td>123.000000</td>\n",
       "      <td>9.901500</td>\n",
       "      <td>1011.840000</td>\n",
       "    </tr>\n",
       "    <tr>\n",
       "      <th>50%</th>\n",
       "      <td>11.138889</td>\n",
       "      <td>11.138889</td>\n",
       "      <td>0.740000</td>\n",
       "      <td>9.788800</td>\n",
       "      <td>198.000000</td>\n",
       "      <td>10.030300</td>\n",
       "      <td>1016.510000</td>\n",
       "    </tr>\n",
       "    <tr>\n",
       "      <th>75%</th>\n",
       "      <td>18.800000</td>\n",
       "      <td>18.800000</td>\n",
       "      <td>0.850000</td>\n",
       "      <td>14.200200</td>\n",
       "      <td>290.000000</td>\n",
       "      <td>11.447100</td>\n",
       "      <td>1022.260000</td>\n",
       "    </tr>\n",
       "    <tr>\n",
       "      <th>max</th>\n",
       "      <td>39.905556</td>\n",
       "      <td>38.377778</td>\n",
       "      <td>1.000000</td>\n",
       "      <td>63.852600</td>\n",
       "      <td>359.000000</td>\n",
       "      <td>16.100000</td>\n",
       "      <td>1041.650000</td>\n",
       "    </tr>\n",
       "  </tbody>\n",
       "</table>\n",
       "</div>"
      ],
      "text/plain": [
       "       Temperature (C)  Apparent Temperature (C)     Humidity  \\\n",
       "count      8760.000000               8760.000000  8760.000000   \n",
       "mean         12.135239                 11.063135     0.689652   \n",
       "std           9.384045                 10.283586     0.199648   \n",
       "min         -10.155556                -12.422222     0.130000   \n",
       "25%           5.033333                  2.888889     0.550000   \n",
       "50%          11.138889                 11.138889     0.740000   \n",
       "75%          18.800000                 18.800000     0.850000   \n",
       "max          39.905556                 38.377778     1.000000   \n",
       "\n",
       "       Wind Speed (km/h)  Wind Bearing (degrees)  Visibility (km)  \\\n",
       "count        8760.000000             8760.000000      8760.000000   \n",
       "mean           10.825392              194.119292        10.408191   \n",
       "std             6.970801              105.558299         3.647454   \n",
       "min             0.000000                0.000000         0.000000   \n",
       "25%             5.747700              123.000000         9.901500   \n",
       "50%             9.788800              198.000000        10.030300   \n",
       "75%            14.200200              290.000000        11.447100   \n",
       "max            63.852600              359.000000        16.100000   \n",
       "\n",
       "       Pressure (millibars)  \n",
       "count           8760.000000  \n",
       "mean            1001.640226  \n",
       "std              125.100009  \n",
       "min                0.000000  \n",
       "25%             1011.840000  \n",
       "50%             1016.510000  \n",
       "75%             1022.260000  \n",
       "max             1041.650000  "
      ]
     },
     "execution_count": 69,
     "metadata": {},
     "output_type": "execute_result"
    }
   ],
   "source": [
    "b.describe()"
   ]
  },
  {
   "cell_type": "code",
   "execution_count": 70,
   "metadata": {},
   "outputs": [
    {
     "data": {
      "text/plain": [
       "50.06111112000001"
      ]
     },
     "execution_count": 70,
     "metadata": {},
     "output_type": "execute_result"
    }
   ],
   "source": [
    "temp_range_2007 = b['Temperature (C)'].max() - b['Temperature (C)'].min()\n",
    "temp_range_2007"
   ]
  },
  {
   "cell_type": "markdown",
   "metadata": {},
   "source": [
    "This shows that the range of the temperature was from -10.15<sup>o</sup>C to 39.9<sup>o</sup>C i.e. there was change in temperature of ~50<sup>o</sup>C."
   ]
  },
  {
   "cell_type": "markdown",
   "metadata": {},
   "source": [
    "We can say that there is a change of ~5<sup>o</sup>C from 2006 to 2007 in the maximum temperature."
   ]
  },
  {
   "cell_type": "code",
   "execution_count": 75,
   "metadata": {},
   "outputs": [
    {
     "data": {
      "text/plain": [
       "<matplotlib.axes._subplots.AxesSubplot at 0xa760266460>"
      ]
     },
     "execution_count": 75,
     "metadata": {},
     "output_type": "execute_result"
    },
    {
     "data": {
      "image/png": "[encoded data removed]",
      "text/plain": [
       "<Figure size 1440x720 with 2 Axes>"
      ]
     },
     "metadata": {
      "needs_background": "light"
     },
     "output_type": "display_data"
    }
   ],
   "source": [
    "plt.figure(figsize=[20,10])\n",
    "sns.heatmap(b.corr(),cmap='coolwarm',annot=True)"
   ]
  },
  {
   "cell_type": "markdown",
   "metadata": {},
   "source": [
    "### Observations:\n",
    "\n",
    "<b>Positive Correlation</b>\n",
    "\n",
    "- Visibility and Temperature : 0.28\n",
    "- Wind Bearing and Wind Speed : 0.14\n",
    "\n",
    "<b>Negative Correlation</b>\n",
    "\n",
    "- Pressure and Temperature : -0.027\n",
    "\n",
    "The positive relationship shows that with the increase in the temperature there is a increase in visibility which as compared to 2006 has decreased. Similarly for Wind speed and wind bearing which shows that as the wind speed increase direction of the wind changes drastically and is more than that of 2006.\n",
    "\n",
    "The negative relationship shows that with increase in temperature the pressure decreased in 2007."
   ]
  },
  {
   "cell_type": "markdown",
   "metadata": {},
   "source": [
    "## Analysis of year 2008"
   ]
  },
  {
   "cell_type": "code",
   "execution_count": 84,
   "metadata": {},
   "outputs": [
    {
     "data": {
      "text/plain": [
       "(8784, 11)"
      ]
     },
     "execution_count": 84,
     "metadata": {},
     "output_type": "execute_result"
    }
   ],
   "source": [
    "c = df[df['Year']=='2008']\n",
    "c.shape"
   ]
  },
  {
   "cell_type": "code",
   "execution_count": 85,
   "metadata": {},
   "outputs": [
    {
     "name": "stdout",
     "output_type": "stream",
     "text": [
      "<class 'pandas.core.frame.DataFrame'>\n",
      "Int64Index: 8784 entries, 17544 to 26327\n",
      "Data columns (total 11 columns):\n",
      " #   Column                    Non-Null Count  Dtype  \n",
      "---  ------                    --------------  -----  \n",
      " 0   Year                      8784 non-null   object \n",
      " 1   Summary                   8784 non-null   object \n",
      " 2   Precip Type               8784 non-null   object \n",
      " 3   Temperature (C)           8784 non-null   float64\n",
      " 4   Apparent Temperature (C)  8784 non-null   float64\n",
      " 5   Humidity                  8784 non-null   float64\n",
      " 6   Wind Speed (km/h)         8784 non-null   float64\n",
      " 7   Wind Bearing (degrees)    8784 non-null   int64  \n",
      " 8   Visibility (km)           8784 non-null   float64\n",
      " 9   Pressure (millibars)      8784 non-null   float64\n",
      " 10  Daily Summary             8784 non-null   object \n",
      "dtypes: float64(6), int64(1), object(4)\n",
      "memory usage: 823.5+ KB\n"
     ]
    }
   ],
   "source": [
    "c.info()"
   ]
  },
  {
   "cell_type": "code",
   "execution_count": 87,
   "metadata": {},
   "outputs": [
    {
     "data": {
      "text/html": [
       "<div>\n",
       "<style scoped>\n",
       "    .dataframe tbody tr th:only-of-type {\n",
       "        vertical-align: middle;\n",
       "    }\n",
       "\n",
       "    .dataframe tbody tr th {\n",
       "        vertical-align: top;\n",
       "    }\n",
       "\n",
       "    .dataframe thead th {\n",
       "        text-align: right;\n",
       "    }\n",
       "</style>\n",
       "<table border=\"1\" class=\"dataframe\">\n",
       "  <thead>\n",
       "    <tr style=\"text-align: right;\">\n",
       "      <th></th>\n",
       "      <th>Temperature (C)</th>\n",
       "      <th>Apparent Temperature (C)</th>\n",
       "      <th>Humidity</th>\n",
       "      <th>Wind Speed (km/h)</th>\n",
       "      <th>Wind Bearing (degrees)</th>\n",
       "      <th>Visibility (km)</th>\n",
       "      <th>Pressure (millibars)</th>\n",
       "    </tr>\n",
       "  </thead>\n",
       "  <tbody>\n",
       "    <tr>\n",
       "      <th>count</th>\n",
       "      <td>8784.000000</td>\n",
       "      <td>8784.000000</td>\n",
       "      <td>8784.000000</td>\n",
       "      <td>8784.000000</td>\n",
       "      <td>8784.000000</td>\n",
       "      <td>8784.000000</td>\n",
       "      <td>8784.000000</td>\n",
       "    </tr>\n",
       "    <tr>\n",
       "      <th>mean</th>\n",
       "      <td>12.161876</td>\n",
       "      <td>11.053184</td>\n",
       "      <td>0.701237</td>\n",
       "      <td>11.303897</td>\n",
       "      <td>193.825250</td>\n",
       "      <td>10.267119</td>\n",
       "      <td>1007.734504</td>\n",
       "    </tr>\n",
       "    <tr>\n",
       "      <th>std</th>\n",
       "      <td>9.177110</td>\n",
       "      <td>10.245629</td>\n",
       "      <td>0.184550</td>\n",
       "      <td>7.038308</td>\n",
       "      <td>103.773725</td>\n",
       "      <td>3.568314</td>\n",
       "      <td>98.204907</td>\n",
       "    </tr>\n",
       "    <tr>\n",
       "      <th>min</th>\n",
       "      <td>-11.127778</td>\n",
       "      <td>-17.261111</td>\n",
       "      <td>0.000000</td>\n",
       "      <td>0.000000</td>\n",
       "      <td>0.000000</td>\n",
       "      <td>0.000000</td>\n",
       "      <td>0.000000</td>\n",
       "    </tr>\n",
       "    <tr>\n",
       "      <th>25%</th>\n",
       "      <td>5.583333</td>\n",
       "      <td>3.015278</td>\n",
       "      <td>0.570000</td>\n",
       "      <td>6.230700</td>\n",
       "      <td>130.000000</td>\n",
       "      <td>9.901500</td>\n",
       "      <td>1011.580000</td>\n",
       "    </tr>\n",
       "    <tr>\n",
       "      <th>50%</th>\n",
       "      <td>11.577778</td>\n",
       "      <td>11.577778</td>\n",
       "      <td>0.740000</td>\n",
       "      <td>10.642100</td>\n",
       "      <td>190.000000</td>\n",
       "      <td>9.982000</td>\n",
       "      <td>1016.550000</td>\n",
       "    </tr>\n",
       "    <tr>\n",
       "      <th>75%</th>\n",
       "      <td>18.656944</td>\n",
       "      <td>18.656944</td>\n",
       "      <td>0.850000</td>\n",
       "      <td>14.441700</td>\n",
       "      <td>291.000000</td>\n",
       "      <td>11.342450</td>\n",
       "      <td>1022.252500</td>\n",
       "    </tr>\n",
       "    <tr>\n",
       "      <th>max</th>\n",
       "      <td>37.755556</td>\n",
       "      <td>36.855556</td>\n",
       "      <td>1.000000</td>\n",
       "      <td>55.931400</td>\n",
       "      <td>359.000000</td>\n",
       "      <td>16.100000</td>\n",
       "      <td>1046.380000</td>\n",
       "    </tr>\n",
       "  </tbody>\n",
       "</table>\n",
       "</div>"
      ],
      "text/plain": [
       "       Temperature (C)  Apparent Temperature (C)     Humidity  \\\n",
       "count      8784.000000               8784.000000  8784.000000   \n",
       "mean         12.161876                 11.053184     0.701237   \n",
       "std           9.177110                 10.245629     0.184550   \n",
       "min         -11.127778                -17.261111     0.000000   \n",
       "25%           5.583333                  3.015278     0.570000   \n",
       "50%          11.577778                 11.577778     0.740000   \n",
       "75%          18.656944                 18.656944     0.850000   \n",
       "max          37.755556                 36.855556     1.000000   \n",
       "\n",
       "       Wind Speed (km/h)  Wind Bearing (degrees)  Visibility (km)  \\\n",
       "count        8784.000000             8784.000000      8784.000000   \n",
       "mean           11.303897              193.825250        10.267119   \n",
       "std             7.038308              103.773725         3.568314   \n",
       "min             0.000000                0.000000         0.000000   \n",
       "25%             6.230700              130.000000         9.901500   \n",
       "50%            10.642100              190.000000         9.982000   \n",
       "75%            14.441700              291.000000        11.342450   \n",
       "max            55.931400              359.000000        16.100000   \n",
       "\n",
       "       Pressure (millibars)  \n",
       "count           8784.000000  \n",
       "mean            1007.734504  \n",
       "std               98.204907  \n",
       "min                0.000000  \n",
       "25%             1011.580000  \n",
       "50%             1016.550000  \n",
       "75%             1022.252500  \n",
       "max             1046.380000  "
      ]
     },
     "execution_count": 87,
     "metadata": {},
     "output_type": "execute_result"
    }
   ],
   "source": [
    "c.describe()"
   ]
  },
  {
   "cell_type": "code",
   "execution_count": 88,
   "metadata": {},
   "outputs": [
    {
     "data": {
      "text/plain": [
       "<matplotlib.axes._subplots.AxesSubplot at 0xa7782bb940>"
      ]
     },
     "execution_count": 88,
     "metadata": {},
     "output_type": "execute_result"
    },
    {
     "data": {
      "image/png": "[encoded data removed]",
      "text/plain": [
       "<Figure size 1440x720 with 2 Axes>"
      ]
     },
     "metadata": {
      "needs_background": "light"
     },
     "output_type": "display_data"
    }
   ],
   "source": [
    "plt.figure(figsize=[20,10])\n",
    "sns.heatmap(c.corr(),cmap='coolwarm',annot=True)"
   ]
  },
  {
   "cell_type": "markdown",
   "metadata": {},
   "source": [
    "### Observations:\n",
    "\n",
    "<b>Positive Correlation</b>\n",
    "\n",
    "- Visibility and Temperature : 0.28\n",
    "- Wind Bearing and Wind Speed : 0.098\n",
    "\n",
    "<b>Negative Correlation</b>\n",
    "\n",
    "- Pressure and Temperature : -0.026\n",
    "\n",
    "The positive relationship shows that with the increase in the temperature there is a increase in visibility. Similarly for Wind speed and wind bearing which shows that as the wind speed increase direction of the wind changes.\n",
    "\n",
    "The negative relationship shows that with increase in temperature the pressure decreased in 2008."
   ]
  },
  {
   "cell_type": "markdown",
   "metadata": {},
   "source": [
    "## Analysis of year 2009"
   ]
  },
  {
   "cell_type": "code",
   "execution_count": 107,
   "metadata": {},
   "outputs": [
    {
     "data": {
      "text/plain": [
       "(8760, 11)"
      ]
     },
     "execution_count": 107,
     "metadata": {},
     "output_type": "execute_result"
    }
   ],
   "source": [
    "d = df[df['Year'] == '2009']\n",
    "d.shape"
   ]
  },
  {
   "cell_type": "code",
   "execution_count": 108,
   "metadata": {},
   "outputs": [
    {
     "name": "stdout",
     "output_type": "stream",
     "text": [
      "<class 'pandas.core.frame.DataFrame'>\n",
      "Int64Index: 8760 entries, 26328 to 35087\n",
      "Data columns (total 11 columns):\n",
      " #   Column                    Non-Null Count  Dtype  \n",
      "---  ------                    --------------  -----  \n",
      " 0   Year                      8760 non-null   object \n",
      " 1   Summary                   8760 non-null   object \n",
      " 2   Precip Type               8760 non-null   object \n",
      " 3   Temperature (C)           8760 non-null   float64\n",
      " 4   Apparent Temperature (C)  8760 non-null   float64\n",
      " 5   Humidity                  8760 non-null   float64\n",
      " 6   Wind Speed (km/h)         8760 non-null   float64\n",
      " 7   Wind Bearing (degrees)    8760 non-null   int64  \n",
      " 8   Visibility (km)           8760 non-null   float64\n",
      " 9   Pressure (millibars)      8760 non-null   float64\n",
      " 10  Daily Summary             8760 non-null   object \n",
      "dtypes: float64(6), int64(1), object(4)\n",
      "memory usage: 821.2+ KB\n"
     ]
    }
   ],
   "source": [
    "d.info()"
   ]
  },
  {
   "cell_type": "code",
   "execution_count": 109,
   "metadata": {},
   "outputs": [
    {
     "data": {
      "text/html": [
       "<div>\n",
       "<style scoped>\n",
       "    .dataframe tbody tr th:only-of-type {\n",
       "        vertical-align: middle;\n",
       "    }\n",
       "\n",
       "    .dataframe tbody tr th {\n",
       "        vertical-align: top;\n",
       "    }\n",
       "\n",
       "    .dataframe thead th {\n",
       "        text-align: right;\n",
       "    }\n",
       "</style>\n",
       "<table border=\"1\" class=\"dataframe\">\n",
       "  <thead>\n",
       "    <tr style=\"text-align: right;\">\n",
       "      <th></th>\n",
       "      <th>Temperature (C)</th>\n",
       "      <th>Apparent Temperature (C)</th>\n",
       "      <th>Humidity</th>\n",
       "      <th>Wind Speed (km/h)</th>\n",
       "      <th>Wind Bearing (degrees)</th>\n",
       "      <th>Visibility (km)</th>\n",
       "      <th>Pressure (millibars)</th>\n",
       "    </tr>\n",
       "  </thead>\n",
       "  <tbody>\n",
       "    <tr>\n",
       "      <th>count</th>\n",
       "      <td>8760.000000</td>\n",
       "      <td>8760.000000</td>\n",
       "      <td>8760.000000</td>\n",
       "      <td>8760.000000</td>\n",
       "      <td>8760.000000</td>\n",
       "      <td>8760.000000</td>\n",
       "      <td>8760.000000</td>\n",
       "    </tr>\n",
       "    <tr>\n",
       "      <th>mean</th>\n",
       "      <td>12.267910</td>\n",
       "      <td>11.069337</td>\n",
       "      <td>0.707247</td>\n",
       "      <td>11.505948</td>\n",
       "      <td>180.496461</td>\n",
       "      <td>10.001370</td>\n",
       "      <td>1002.608735</td>\n",
       "    </tr>\n",
       "    <tr>\n",
       "      <th>std</th>\n",
       "      <td>9.771362</td>\n",
       "      <td>10.969885</td>\n",
       "      <td>0.204392</td>\n",
       "      <td>7.517410</td>\n",
       "      <td>111.844844</td>\n",
       "      <td>3.938705</td>\n",
       "      <td>114.330599</td>\n",
       "    </tr>\n",
       "    <tr>\n",
       "      <th>min</th>\n",
       "      <td>-16.666667</td>\n",
       "      <td>-24.233333</td>\n",
       "      <td>0.000000</td>\n",
       "      <td>0.000000</td>\n",
       "      <td>0.000000</td>\n",
       "      <td>0.000000</td>\n",
       "      <td>0.000000</td>\n",
       "    </tr>\n",
       "    <tr>\n",
       "      <th>25%</th>\n",
       "      <td>5.000000</td>\n",
       "      <td>2.427778</td>\n",
       "      <td>0.560000</td>\n",
       "      <td>6.440000</td>\n",
       "      <td>90.000000</td>\n",
       "      <td>9.519125</td>\n",
       "      <td>1011.300000</td>\n",
       "    </tr>\n",
       "    <tr>\n",
       "      <th>50%</th>\n",
       "      <td>12.508333</td>\n",
       "      <td>12.508333</td>\n",
       "      <td>0.760000</td>\n",
       "      <td>10.996300</td>\n",
       "      <td>170.000000</td>\n",
       "      <td>9.982000</td>\n",
       "      <td>1016.500000</td>\n",
       "    </tr>\n",
       "    <tr>\n",
       "      <th>75%</th>\n",
       "      <td>19.894444</td>\n",
       "      <td>19.894444</td>\n",
       "      <td>0.880000</td>\n",
       "      <td>14.490000</td>\n",
       "      <td>290.000000</td>\n",
       "      <td>11.270000</td>\n",
       "      <td>1019.800000</td>\n",
       "    </tr>\n",
       "    <tr>\n",
       "      <th>max</th>\n",
       "      <td>36.111111</td>\n",
       "      <td>36.922222</td>\n",
       "      <td>1.000000</td>\n",
       "      <td>48.300000</td>\n",
       "      <td>359.000000</td>\n",
       "      <td>16.100000</td>\n",
       "      <td>1042.040000</td>\n",
       "    </tr>\n",
       "  </tbody>\n",
       "</table>\n",
       "</div>"
      ],
      "text/plain": [
       "       Temperature (C)  Apparent Temperature (C)     Humidity  \\\n",
       "count      8760.000000               8760.000000  8760.000000   \n",
       "mean         12.267910                 11.069337     0.707247   \n",
       "std           9.771362                 10.969885     0.204392   \n",
       "min         -16.666667                -24.233333     0.000000   \n",
       "25%           5.000000                  2.427778     0.560000   \n",
       "50%          12.508333                 12.508333     0.760000   \n",
       "75%          19.894444                 19.894444     0.880000   \n",
       "max          36.111111                 36.922222     1.000000   \n",
       "\n",
       "       Wind Speed (km/h)  Wind Bearing (degrees)  Visibility (km)  \\\n",
       "count        8760.000000             8760.000000      8760.000000   \n",
       "mean           11.505948              180.496461        10.001370   \n",
       "std             7.517410              111.844844         3.938705   \n",
       "min             0.000000                0.000000         0.000000   \n",
       "25%             6.440000               90.000000         9.519125   \n",
       "50%            10.996300              170.000000         9.982000   \n",
       "75%            14.490000              290.000000        11.270000   \n",
       "max            48.300000              359.000000        16.100000   \n",
       "\n",
       "       Pressure (millibars)  \n",
       "count           8760.000000  \n",
       "mean            1002.608735  \n",
       "std              114.330599  \n",
       "min                0.000000  \n",
       "25%             1011.300000  \n",
       "50%             1016.500000  \n",
       "75%             1019.800000  \n",
       "max             1042.040000  "
      ]
     },
     "execution_count": 109,
     "metadata": {},
     "output_type": "execute_result"
    }
   ],
   "source": [
    "d.describe()"
   ]
  },
  {
   "cell_type": "code",
   "execution_count": 110,
   "metadata": {},
   "outputs": [
    {
     "data": {
      "text/plain": [
       "<matplotlib.axes._subplots.AxesSubplot at 0xa773bfb5b0>"
      ]
     },
     "execution_count": 110,
     "metadata": {},
     "output_type": "execute_result"
    },
    {
     "data": {
      "image/png": "[encoded data removed]",
      "text/plain": [
       "<Figure size 1440x720 with 2 Axes>"
      ]
     },
     "metadata": {
      "needs_background": "light"
     },
     "output_type": "display_data"
    }
   ],
   "source": [
    "plt.figure(figsize=[20,10])\n",
    "sns.heatmap(d.corr(),cmap='coolwarm',annot=True)"
   ]
  },
  {
   "cell_type": "markdown",
   "metadata": {},
   "source": [
    "### Observations:\n",
    "\n",
    "<b>Positive Correlation</b>\n",
    "\n",
    "- Visibility and Temperature : 0.33\n",
    "- Wind Bearing and Wind Speed : 0.18\n",
    "\n",
    "<b>Negative Correlation</b>\n",
    "\n",
    "- Pressure and Humidity : -0.014\n",
    "\n",
    "The positive relationship shows that with the increase in the temperature there is a increase in visibility. Similarly for Wind speed and wind bearing which shows that as the wind speed increase direction of the wind changes.\n",
    "\n",
    "The negative relationship shows that with increase in the pressure humidity decreased in 2009."
   ]
  },
  {
   "cell_type": "markdown",
   "metadata": {},
   "source": [
    "## Analysis of year 2010"
   ]
  },
  {
   "cell_type": "code",
   "execution_count": 111,
   "metadata": {},
   "outputs": [
    {
     "data": {
      "text/plain": [
       "(8784, 11)"
      ]
     },
     "execution_count": 111,
     "metadata": {},
     "output_type": "execute_result"
    }
   ],
   "source": [
    "e = df[df['Year'] == '2010']\n",
    "e.shape"
   ]
  },
  {
   "cell_type": "code",
   "execution_count": 112,
   "metadata": {},
   "outputs": [
    {
     "name": "stdout",
     "output_type": "stream",
     "text": [
      "<class 'pandas.core.frame.DataFrame'>\n",
      "Int64Index: 8784 entries, 8040 to 43847\n",
      "Data columns (total 11 columns):\n",
      " #   Column                    Non-Null Count  Dtype  \n",
      "---  ------                    --------------  -----  \n",
      " 0   Year                      8784 non-null   object \n",
      " 1   Summary                   8784 non-null   object \n",
      " 2   Precip Type               8784 non-null   object \n",
      " 3   Temperature (C)           8784 non-null   float64\n",
      " 4   Apparent Temperature (C)  8784 non-null   float64\n",
      " 5   Humidity                  8784 non-null   float64\n",
      " 6   Wind Speed (km/h)         8784 non-null   float64\n",
      " 7   Wind Bearing (degrees)    8784 non-null   int64  \n",
      " 8   Visibility (km)           8784 non-null   float64\n",
      " 9   Pressure (millibars)      8784 non-null   float64\n",
      " 10  Daily Summary             8784 non-null   object \n",
      "dtypes: float64(6), int64(1), object(4)\n",
      "memory usage: 823.5+ KB\n"
     ]
    }
   ],
   "source": [
    "e.info()"
   ]
  },
  {
   "cell_type": "code",
   "execution_count": 113,
   "metadata": {},
   "outputs": [
    {
     "data": {
      "text/html": [
       "<div>\n",
       "<style scoped>\n",
       "    .dataframe tbody tr th:only-of-type {\n",
       "        vertical-align: middle;\n",
       "    }\n",
       "\n",
       "    .dataframe tbody tr th {\n",
       "        vertical-align: top;\n",
       "    }\n",
       "\n",
       "    .dataframe thead th {\n",
       "        text-align: right;\n",
       "    }\n",
       "</style>\n",
       "<table border=\"1\" class=\"dataframe\">\n",
       "  <thead>\n",
       "    <tr style=\"text-align: right;\">\n",
       "      <th></th>\n",
       "      <th>Temperature (C)</th>\n",
       "      <th>Apparent Temperature (C)</th>\n",
       "      <th>Humidity</th>\n",
       "      <th>Wind Speed (km/h)</th>\n",
       "      <th>Wind Bearing (degrees)</th>\n",
       "      <th>Visibility (km)</th>\n",
       "      <th>Pressure (millibars)</th>\n",
       "    </tr>\n",
       "  </thead>\n",
       "  <tbody>\n",
       "    <tr>\n",
       "      <th>count</th>\n",
       "      <td>8784.000000</td>\n",
       "      <td>8784.000000</td>\n",
       "      <td>8784.000000</td>\n",
       "      <td>8784.000000</td>\n",
       "      <td>8784.000000</td>\n",
       "      <td>8784.000000</td>\n",
       "      <td>8784.000000</td>\n",
       "    </tr>\n",
       "    <tr>\n",
       "      <th>mean</th>\n",
       "      <td>11.202061</td>\n",
       "      <td>10.098643</td>\n",
       "      <td>0.796858</td>\n",
       "      <td>11.015628</td>\n",
       "      <td>192.067509</td>\n",
       "      <td>9.140810</td>\n",
       "      <td>1004.811891</td>\n",
       "    </tr>\n",
       "    <tr>\n",
       "      <th>std</th>\n",
       "      <td>9.649244</td>\n",
       "      <td>11.120552</td>\n",
       "      <td>0.168368</td>\n",
       "      <td>6.856158</td>\n",
       "      <td>108.469171</td>\n",
       "      <td>3.771231</td>\n",
       "      <td>97.234431</td>\n",
       "    </tr>\n",
       "    <tr>\n",
       "      <th>min</th>\n",
       "      <td>-15.483333</td>\n",
       "      <td>-21.411111</td>\n",
       "      <td>0.290000</td>\n",
       "      <td>0.000000</td>\n",
       "      <td>0.000000</td>\n",
       "      <td>0.000000</td>\n",
       "      <td>0.000000</td>\n",
       "    </tr>\n",
       "    <tr>\n",
       "      <th>25%</th>\n",
       "      <td>3.750000</td>\n",
       "      <td>1.111111</td>\n",
       "      <td>0.690000</td>\n",
       "      <td>6.101900</td>\n",
       "      <td>114.000000</td>\n",
       "      <td>6.343400</td>\n",
       "      <td>1009.820000</td>\n",
       "    </tr>\n",
       "    <tr>\n",
       "      <th>50%</th>\n",
       "      <td>11.975000</td>\n",
       "      <td>11.975000</td>\n",
       "      <td>0.850000</td>\n",
       "      <td>10.465000</td>\n",
       "      <td>183.000000</td>\n",
       "      <td>9.982000</td>\n",
       "      <td>1014.210000</td>\n",
       "    </tr>\n",
       "    <tr>\n",
       "      <th>75%</th>\n",
       "      <td>17.800000</td>\n",
       "      <td>17.800000</td>\n",
       "      <td>0.930000</td>\n",
       "      <td>14.200200</td>\n",
       "      <td>299.000000</td>\n",
       "      <td>11.270000</td>\n",
       "      <td>1018.662500</td>\n",
       "    </tr>\n",
       "    <tr>\n",
       "      <th>max</th>\n",
       "      <td>34.927778</td>\n",
       "      <td>38.116667</td>\n",
       "      <td>1.000000</td>\n",
       "      <td>46.207000</td>\n",
       "      <td>359.000000</td>\n",
       "      <td>16.100000</td>\n",
       "      <td>1037.850000</td>\n",
       "    </tr>\n",
       "  </tbody>\n",
       "</table>\n",
       "</div>"
      ],
      "text/plain": [
       "       Temperature (C)  Apparent Temperature (C)     Humidity  \\\n",
       "count      8784.000000               8784.000000  8784.000000   \n",
       "mean         11.202061                 10.098643     0.796858   \n",
       "std           9.649244                 11.120552     0.168368   \n",
       "min         -15.483333                -21.411111     0.290000   \n",
       "25%           3.750000                  1.111111     0.690000   \n",
       "50%          11.975000                 11.975000     0.850000   \n",
       "75%          17.800000                 17.800000     0.930000   \n",
       "max          34.927778                 38.116667     1.000000   \n",
       "\n",
       "       Wind Speed (km/h)  Wind Bearing (degrees)  Visibility (km)  \\\n",
       "count        8784.000000             8784.000000      8784.000000   \n",
       "mean           11.015628              192.067509         9.140810   \n",
       "std             6.856158              108.469171         3.771231   \n",
       "min             0.000000                0.000000         0.000000   \n",
       "25%             6.101900              114.000000         6.343400   \n",
       "50%            10.465000              183.000000         9.982000   \n",
       "75%            14.200200              299.000000        11.270000   \n",
       "max            46.207000              359.000000        16.100000   \n",
       "\n",
       "       Pressure (millibars)  \n",
       "count           8784.000000  \n",
       "mean            1004.811891  \n",
       "std               97.234431  \n",
       "min                0.000000  \n",
       "25%             1009.820000  \n",
       "50%             1014.210000  \n",
       "75%             1018.662500  \n",
       "max             1037.850000  "
      ]
     },
     "execution_count": 113,
     "metadata": {},
     "output_type": "execute_result"
    }
   ],
   "source": [
    "e.describe()"
   ]
  },
  {
   "cell_type": "code",
   "execution_count": 114,
   "metadata": {},
   "outputs": [
    {
     "data": {
      "text/plain": [
       "<matplotlib.axes._subplots.AxesSubplot at 0xa7736e3370>"
      ]
     },
     "execution_count": 114,
     "metadata": {},
     "output_type": "execute_result"
    },
    {
     "data": {
      "image/png": "[encoded data removed]",
      "text/plain": [
       "<Figure size 1440x720 with 2 Axes>"
      ]
     },
     "metadata": {
      "needs_background": "light"
     },
     "output_type": "display_data"
    }
   ],
   "source": [
    "plt.figure(figsize=[20,10])\n",
    "sns.heatmap(e.corr(),cmap='coolwarm',annot=True)"
   ]
  },
  {
   "cell_type": "markdown",
   "metadata": {},
   "source": [
    "### Observations:\n",
    "\n",
    "<b>Positive Correlation</b>\n",
    "\n",
    "- Visibility and Temperature : 0.44\n",
    "- Wind Bearing and Wind Speed : 0.15\n",
    "\n",
    "<b>Negative Correlation</b>\n",
    "\n",
    "- Pressure and Temperature : -0.036\n",
    "\n",
    "The positive relationship shows that with the increase in the temperature there is a increase in visibility. Similarly for Wind speed and wind bearing which shows that as the wind speed increase direction of the wind changes.\n",
    "\n",
    "The negative relationship shows that with increase in temperature the pressure decreased in 2010."
   ]
  },
  {
   "cell_type": "markdown",
   "metadata": {},
   "source": [
    "## Analysis of year 2011"
   ]
  },
  {
   "cell_type": "code",
   "execution_count": 115,
   "metadata": {},
   "outputs": [
    {
     "data": {
      "text/plain": [
       "(8760, 11)"
      ]
     },
     "execution_count": 115,
     "metadata": {},
     "output_type": "execute_result"
    }
   ],
   "source": [
    "f = df[df['Year']=='2011']\n",
    "f.shape"
   ]
  },
  {
   "cell_type": "code",
   "execution_count": 116,
   "metadata": {},
   "outputs": [
    {
     "name": "stdout",
     "output_type": "stream",
     "text": [
      "<class 'pandas.core.frame.DataFrame'>\n",
      "Int64Index: 8760 entries, 43848 to 52607\n",
      "Data columns (total 11 columns):\n",
      " #   Column                    Non-Null Count  Dtype  \n",
      "---  ------                    --------------  -----  \n",
      " 0   Year                      8760 non-null   object \n",
      " 1   Summary                   8760 non-null   object \n",
      " 2   Precip Type               8760 non-null   object \n",
      " 3   Temperature (C)           8760 non-null   float64\n",
      " 4   Apparent Temperature (C)  8760 non-null   float64\n",
      " 5   Humidity                  8760 non-null   float64\n",
      " 6   Wind Speed (km/h)         8760 non-null   float64\n",
      " 7   Wind Bearing (degrees)    8760 non-null   int64  \n",
      " 8   Visibility (km)           8760 non-null   float64\n",
      " 9   Pressure (millibars)      8760 non-null   float64\n",
      " 10  Daily Summary             8760 non-null   object \n",
      "dtypes: float64(6), int64(1), object(4)\n",
      "memory usage: 821.2+ KB\n"
     ]
    }
   ],
   "source": [
    "f.info()"
   ]
  },
  {
   "cell_type": "code",
   "execution_count": 117,
   "metadata": {},
   "outputs": [
    {
     "data": {
      "text/html": [
       "<div>\n",
       "<style scoped>\n",
       "    .dataframe tbody tr th:only-of-type {\n",
       "        vertical-align: middle;\n",
       "    }\n",
       "\n",
       "    .dataframe tbody tr th {\n",
       "        vertical-align: top;\n",
       "    }\n",
       "\n",
       "    .dataframe thead th {\n",
       "        text-align: right;\n",
       "    }\n",
       "</style>\n",
       "<table border=\"1\" class=\"dataframe\">\n",
       "  <thead>\n",
       "    <tr style=\"text-align: right;\">\n",
       "      <th></th>\n",
       "      <th>Temperature (C)</th>\n",
       "      <th>Apparent Temperature (C)</th>\n",
       "      <th>Humidity</th>\n",
       "      <th>Wind Speed (km/h)</th>\n",
       "      <th>Wind Bearing (degrees)</th>\n",
       "      <th>Visibility (km)</th>\n",
       "      <th>Pressure (millibars)</th>\n",
       "    </tr>\n",
       "  </thead>\n",
       "  <tbody>\n",
       "    <tr>\n",
       "      <th>count</th>\n",
       "      <td>8760.000000</td>\n",
       "      <td>8760.000000</td>\n",
       "      <td>8760.000000</td>\n",
       "      <td>8760.000000</td>\n",
       "      <td>8760.000000</td>\n",
       "      <td>8760.000000</td>\n",
       "      <td>8760.000000</td>\n",
       "    </tr>\n",
       "    <tr>\n",
       "      <th>mean</th>\n",
       "      <td>11.524453</td>\n",
       "      <td>10.584294</td>\n",
       "      <td>0.736017</td>\n",
       "      <td>9.898262</td>\n",
       "      <td>189.342352</td>\n",
       "      <td>9.507929</td>\n",
       "      <td>1014.184075</td>\n",
       "    </tr>\n",
       "    <tr>\n",
       "      <th>std</th>\n",
       "      <td>10.139322</td>\n",
       "      <td>11.083158</td>\n",
       "      <td>0.202686</td>\n",
       "      <td>6.655776</td>\n",
       "      <td>109.739120</td>\n",
       "      <td>4.062030</td>\n",
       "      <td>69.925923</td>\n",
       "    </tr>\n",
       "    <tr>\n",
       "      <th>min</th>\n",
       "      <td>-11.700000</td>\n",
       "      <td>-12.761111</td>\n",
       "      <td>0.200000</td>\n",
       "      <td>0.000000</td>\n",
       "      <td>0.000000</td>\n",
       "      <td>0.000000</td>\n",
       "      <td>0.000000</td>\n",
       "    </tr>\n",
       "    <tr>\n",
       "      <th>25%</th>\n",
       "      <td>2.665278</td>\n",
       "      <td>0.783333</td>\n",
       "      <td>0.590000</td>\n",
       "      <td>4.701200</td>\n",
       "      <td>114.000000</td>\n",
       "      <td>7.212800</td>\n",
       "      <td>1013.860000</td>\n",
       "    </tr>\n",
       "    <tr>\n",
       "      <th>50%</th>\n",
       "      <td>11.688889</td>\n",
       "      <td>11.688889</td>\n",
       "      <td>0.790000</td>\n",
       "      <td>9.112600</td>\n",
       "      <td>181.000000</td>\n",
       "      <td>9.982000</td>\n",
       "      <td>1018.200000</td>\n",
       "    </tr>\n",
       "    <tr>\n",
       "      <th>75%</th>\n",
       "      <td>18.945833</td>\n",
       "      <td>18.945833</td>\n",
       "      <td>0.910000</td>\n",
       "      <td>13.572300</td>\n",
       "      <td>297.000000</td>\n",
       "      <td>11.270000</td>\n",
       "      <td>1023.650000</td>\n",
       "    </tr>\n",
       "    <tr>\n",
       "      <th>max</th>\n",
       "      <td>37.800000</td>\n",
       "      <td>37.716667</td>\n",
       "      <td>1.000000</td>\n",
       "      <td>49.394800</td>\n",
       "      <td>359.000000</td>\n",
       "      <td>16.100000</td>\n",
       "      <td>1041.140000</td>\n",
       "    </tr>\n",
       "  </tbody>\n",
       "</table>\n",
       "</div>"
      ],
      "text/plain": [
       "       Temperature (C)  Apparent Temperature (C)     Humidity  \\\n",
       "count      8760.000000               8760.000000  8760.000000   \n",
       "mean         11.524453                 10.584294     0.736017   \n",
       "std          10.139322                 11.083158     0.202686   \n",
       "min         -11.700000                -12.761111     0.200000   \n",
       "25%           2.665278                  0.783333     0.590000   \n",
       "50%          11.688889                 11.688889     0.790000   \n",
       "75%          18.945833                 18.945833     0.910000   \n",
       "max          37.800000                 37.716667     1.000000   \n",
       "\n",
       "       Wind Speed (km/h)  Wind Bearing (degrees)  Visibility (km)  \\\n",
       "count        8760.000000             8760.000000      8760.000000   \n",
       "mean            9.898262              189.342352         9.507929   \n",
       "std             6.655776              109.739120         4.062030   \n",
       "min             0.000000                0.000000         0.000000   \n",
       "25%             4.701200              114.000000         7.212800   \n",
       "50%             9.112600              181.000000         9.982000   \n",
       "75%            13.572300              297.000000        11.270000   \n",
       "max            49.394800              359.000000        16.100000   \n",
       "\n",
       "       Pressure (millibars)  \n",
       "count           8760.000000  \n",
       "mean            1014.184075  \n",
       "std               69.925923  \n",
       "min                0.000000  \n",
       "25%             1013.860000  \n",
       "50%             1018.200000  \n",
       "75%             1023.650000  \n",
       "max             1041.140000  "
      ]
     },
     "execution_count": 117,
     "metadata": {},
     "output_type": "execute_result"
    }
   ],
   "source": [
    "f.describe()"
   ]
  },
  {
   "cell_type": "code",
   "execution_count": 118,
   "metadata": {},
   "outputs": [
    {
     "data": {
      "text/plain": [
       "<matplotlib.axes._subplots.AxesSubplot at 0xa7770c50a0>"
      ]
     },
     "execution_count": 118,
     "metadata": {},
     "output_type": "execute_result"
    },
    {
     "data": {
      "image/png": "[encoded data removed]",
      "text/plain": [
       "<Figure size 1440x720 with 2 Axes>"
      ]
     },
     "metadata": {
      "needs_background": "light"
     },
     "output_type": "display_data"
    }
   ],
   "source": [
    "plt.figure(figsize=[20,10])\n",
    "sns.heatmap(f.corr(),cmap='coolwarm',annot=True)"
   ]
  },
  {
   "cell_type": "markdown",
   "metadata": {},
   "source": [
    "### Observations:\n",
    "\n",
    "<b>Positive Correlation</b>\n",
    "\n",
    "- Visibility and Temperature : 0.5\n",
    "- Wind Bearing and Wind Speed : 0.11\n",
    "\n",
    "<b>Negative Correlation</b>\n",
    "\n",
    "- Pressure and Temperature : -0.049\n",
    "\n",
    "The positive relationship shows that with the increase in the temperature there is a increase in visibility. Similarly for Wind speed and wind bearing which shows that as the wind speed increase direction of the wind changes.\n",
    "\n",
    "The negative relationship shows that with increase in temperature the pressure decreased in 2011."
   ]
  },
  {
   "cell_type": "markdown",
   "metadata": {},
   "source": [
    "## Analysis of year 2012"
   ]
  },
  {
   "cell_type": "code",
   "execution_count": 119,
   "metadata": {},
   "outputs": [
    {
     "data": {
      "text/plain": [
       "(8784, 11)"
      ]
     },
     "execution_count": 119,
     "metadata": {},
     "output_type": "execute_result"
    }
   ],
   "source": [
    "g = df[df['Year'] == '2012']\n",
    "g.shape"
   ]
  },
  {
   "cell_type": "code",
   "execution_count": 120,
   "metadata": {},
   "outputs": [
    {
     "name": "stdout",
     "output_type": "stream",
     "text": [
      "<class 'pandas.core.frame.DataFrame'>\n",
      "Int64Index: 8784 entries, 52608 to 61391\n",
      "Data columns (total 11 columns):\n",
      " #   Column                    Non-Null Count  Dtype  \n",
      "---  ------                    --------------  -----  \n",
      " 0   Year                      8784 non-null   object \n",
      " 1   Summary                   8784 non-null   object \n",
      " 2   Precip Type               8641 non-null   object \n",
      " 3   Temperature (C)           8784 non-null   float64\n",
      " 4   Apparent Temperature (C)  8784 non-null   float64\n",
      " 5   Humidity                  8784 non-null   float64\n",
      " 6   Wind Speed (km/h)         8784 non-null   float64\n",
      " 7   Wind Bearing (degrees)    8784 non-null   int64  \n",
      " 8   Visibility (km)           8784 non-null   float64\n",
      " 9   Pressure (millibars)      8784 non-null   float64\n",
      " 10  Daily Summary             8784 non-null   object \n",
      "dtypes: float64(6), int64(1), object(4)\n",
      "memory usage: 823.5+ KB\n"
     ]
    }
   ],
   "source": [
    "g.info()"
   ]
  },
  {
   "cell_type": "code",
   "execution_count": 121,
   "metadata": {},
   "outputs": [
    {
     "data": {
      "text/html": [
       "<div>\n",
       "<style scoped>\n",
       "    .dataframe tbody tr th:only-of-type {\n",
       "        vertical-align: middle;\n",
       "    }\n",
       "\n",
       "    .dataframe tbody tr th {\n",
       "        vertical-align: top;\n",
       "    }\n",
       "\n",
       "    .dataframe thead th {\n",
       "        text-align: right;\n",
       "    }\n",
       "</style>\n",
       "<table border=\"1\" class=\"dataframe\">\n",
       "  <thead>\n",
       "    <tr style=\"text-align: right;\">\n",
       "      <th></th>\n",
       "      <th>Temperature (C)</th>\n",
       "      <th>Apparent Temperature (C)</th>\n",
       "      <th>Humidity</th>\n",
       "      <th>Wind Speed (km/h)</th>\n",
       "      <th>Wind Bearing (degrees)</th>\n",
       "      <th>Visibility (km)</th>\n",
       "      <th>Pressure (millibars)</th>\n",
       "    </tr>\n",
       "  </thead>\n",
       "  <tbody>\n",
       "    <tr>\n",
       "      <th>count</th>\n",
       "      <td>8784.000000</td>\n",
       "      <td>8784.000000</td>\n",
       "      <td>8784.00000</td>\n",
       "      <td>8784.000000</td>\n",
       "      <td>8784.000000</td>\n",
       "      <td>8784.000000</td>\n",
       "      <td>8784.000000</td>\n",
       "    </tr>\n",
       "    <tr>\n",
       "      <th>mean</th>\n",
       "      <td>11.986726</td>\n",
       "      <td>10.753081</td>\n",
       "      <td>0.68950</td>\n",
       "      <td>11.264545</td>\n",
       "      <td>187.755692</td>\n",
       "      <td>10.363108</td>\n",
       "      <td>999.341481</td>\n",
       "    </tr>\n",
       "    <tr>\n",
       "      <th>std</th>\n",
       "      <td>11.021343</td>\n",
       "      <td>12.285058</td>\n",
       "      <td>0.21799</td>\n",
       "      <td>7.169755</td>\n",
       "      <td>109.647557</td>\n",
       "      <td>3.823126</td>\n",
       "      <td>131.949537</td>\n",
       "    </tr>\n",
       "    <tr>\n",
       "      <th>min</th>\n",
       "      <td>-21.822222</td>\n",
       "      <td>-27.716667</td>\n",
       "      <td>0.00000</td>\n",
       "      <td>0.000000</td>\n",
       "      <td>0.000000</td>\n",
       "      <td>0.000000</td>\n",
       "      <td>0.000000</td>\n",
       "    </tr>\n",
       "    <tr>\n",
       "      <th>25%</th>\n",
       "      <td>3.793056</td>\n",
       "      <td>1.204167</td>\n",
       "      <td>0.52750</td>\n",
       "      <td>6.134100</td>\n",
       "      <td>115.000000</td>\n",
       "      <td>9.982000</td>\n",
       "      <td>1011.720000</td>\n",
       "    </tr>\n",
       "    <tr>\n",
       "      <th>50%</th>\n",
       "      <td>12.222222</td>\n",
       "      <td>12.222222</td>\n",
       "      <td>0.73000</td>\n",
       "      <td>10.561600</td>\n",
       "      <td>180.000000</td>\n",
       "      <td>9.982000</td>\n",
       "      <td>1016.100000</td>\n",
       "    </tr>\n",
       "    <tr>\n",
       "      <th>75%</th>\n",
       "      <td>20.000000</td>\n",
       "      <td>20.000000</td>\n",
       "      <td>0.87000</td>\n",
       "      <td>14.490000</td>\n",
       "      <td>291.000000</td>\n",
       "      <td>11.447100</td>\n",
       "      <td>1021.360000</td>\n",
       "    </tr>\n",
       "    <tr>\n",
       "      <th>max</th>\n",
       "      <td>38.861111</td>\n",
       "      <td>37.883333</td>\n",
       "      <td>1.00000</td>\n",
       "      <td>45.080000</td>\n",
       "      <td>359.000000</td>\n",
       "      <td>16.100000</td>\n",
       "      <td>1037.100000</td>\n",
       "    </tr>\n",
       "  </tbody>\n",
       "</table>\n",
       "</div>"
      ],
      "text/plain": [
       "       Temperature (C)  Apparent Temperature (C)    Humidity  \\\n",
       "count      8784.000000               8784.000000  8784.00000   \n",
       "mean         11.986726                 10.753081     0.68950   \n",
       "std          11.021343                 12.285058     0.21799   \n",
       "min         -21.822222                -27.716667     0.00000   \n",
       "25%           3.793056                  1.204167     0.52750   \n",
       "50%          12.222222                 12.222222     0.73000   \n",
       "75%          20.000000                 20.000000     0.87000   \n",
       "max          38.861111                 37.883333     1.00000   \n",
       "\n",
       "       Wind Speed (km/h)  Wind Bearing (degrees)  Visibility (km)  \\\n",
       "count        8784.000000             8784.000000      8784.000000   \n",
       "mean           11.264545              187.755692        10.363108   \n",
       "std             7.169755              109.647557         3.823126   \n",
       "min             0.000000                0.000000         0.000000   \n",
       "25%             6.134100              115.000000         9.982000   \n",
       "50%            10.561600              180.000000         9.982000   \n",
       "75%            14.490000              291.000000        11.447100   \n",
       "max            45.080000              359.000000        16.100000   \n",
       "\n",
       "       Pressure (millibars)  \n",
       "count           8784.000000  \n",
       "mean             999.341481  \n",
       "std              131.949537  \n",
       "min                0.000000  \n",
       "25%             1011.720000  \n",
       "50%             1016.100000  \n",
       "75%             1021.360000  \n",
       "max             1037.100000  "
      ]
     },
     "execution_count": 121,
     "metadata": {},
     "output_type": "execute_result"
    }
   ],
   "source": [
    "g.describe()"
   ]
  },
  {
   "cell_type": "code",
   "execution_count": 122,
   "metadata": {},
   "outputs": [
    {
     "data": {
      "text/plain": [
       "<matplotlib.axes._subplots.AxesSubplot at 0xa7736def40>"
      ]
     },
     "execution_count": 122,
     "metadata": {},
     "output_type": "execute_result"
    },
    {
     "data": {
      "image/png": "[encoded data removed]",
      "text/plain": [
       "<Figure size 1440x720 with 2 Axes>"
      ]
     },
     "metadata": {
      "needs_background": "light"
     },
     "output_type": "display_data"
    }
   ],
   "source": [
    "plt.figure(figsize=[20,10])\n",
    "sns.heatmap(g.corr(),cmap='coolwarm',annot=True)"
   ]
  },
  {
   "cell_type": "markdown",
   "metadata": {},
   "source": [
    "### Observations:\n",
    "\n",
    "<b>Positive Correlation</b>\n",
    "\n",
    "- Visibility and Temperature : 0.31\n",
    "- Wind Bearing and Wind Speed : 0.15\n",
    "\n",
    "<b>Negative Correlation</b>\n",
    "\n",
    "- Pressure and Temperature : -0.13\n",
    "\n",
    "The positive relationship shows that with the increase in the temperature there is a increase in visibility. Similarly for Wind speed and wind bearing which shows that as the wind speed increase direction of the wind changes.\n",
    "\n",
    "The negative relationship shows that with increase in temperature the pressure decreased in 2012."
   ]
  },
  {
   "cell_type": "markdown",
   "metadata": {},
   "source": [
    "## Analysis of year 2013"
   ]
  },
  {
   "cell_type": "code",
   "execution_count": 131,
   "metadata": {},
   "outputs": [
    {
     "data": {
      "text/plain": [
       "(8760, 11)"
      ]
     },
     "execution_count": 131,
     "metadata": {},
     "output_type": "execute_result"
    }
   ],
   "source": [
    "h = df[df['Year'] == '2013']\n",
    "h.shape"
   ]
  },
  {
   "cell_type": "code",
   "execution_count": 132,
   "metadata": {},
   "outputs": [
    {
     "name": "stdout",
     "output_type": "stream",
     "text": [
      "<class 'pandas.core.frame.DataFrame'>\n",
      "Int64Index: 8760 entries, 61392 to 70151\n",
      "Data columns (total 11 columns):\n",
      " #   Column                    Non-Null Count  Dtype  \n",
      "---  ------                    --------------  -----  \n",
      " 0   Year                      8760 non-null   object \n",
      " 1   Summary                   8760 non-null   object \n",
      " 2   Precip Type               8760 non-null   object \n",
      " 3   Temperature (C)           8760 non-null   float64\n",
      " 4   Apparent Temperature (C)  8760 non-null   float64\n",
      " 5   Humidity                  8760 non-null   float64\n",
      " 6   Wind Speed (km/h)         8760 non-null   float64\n",
      " 7   Wind Bearing (degrees)    8760 non-null   int64  \n",
      " 8   Visibility (km)           8760 non-null   float64\n",
      " 9   Pressure (millibars)      8760 non-null   float64\n",
      " 10  Daily Summary             8760 non-null   object \n",
      "dtypes: float64(6), int64(1), object(4)\n",
      "memory usage: 821.2+ KB\n"
     ]
    }
   ],
   "source": [
    "h.info()"
   ]
  },
  {
   "cell_type": "code",
   "execution_count": 133,
   "metadata": {},
   "outputs": [
    {
     "data": {
      "text/html": [
       "<div>\n",
       "<style scoped>\n",
       "    .dataframe tbody tr th:only-of-type {\n",
       "        vertical-align: middle;\n",
       "    }\n",
       "\n",
       "    .dataframe tbody tr th {\n",
       "        vertical-align: top;\n",
       "    }\n",
       "\n",
       "    .dataframe thead th {\n",
       "        text-align: right;\n",
       "    }\n",
       "</style>\n",
       "<table border=\"1\" class=\"dataframe\">\n",
       "  <thead>\n",
       "    <tr style=\"text-align: right;\">\n",
       "      <th></th>\n",
       "      <th>Temperature (C)</th>\n",
       "      <th>Apparent Temperature (C)</th>\n",
       "      <th>Humidity</th>\n",
       "      <th>Wind Speed (km/h)</th>\n",
       "      <th>Wind Bearing (degrees)</th>\n",
       "      <th>Visibility (km)</th>\n",
       "      <th>Pressure (millibars)</th>\n",
       "    </tr>\n",
       "  </thead>\n",
       "  <tbody>\n",
       "    <tr>\n",
       "      <th>count</th>\n",
       "      <td>8760.000000</td>\n",
       "      <td>8760.000000</td>\n",
       "      <td>8760.000000</td>\n",
       "      <td>8760.000000</td>\n",
       "      <td>8760.000000</td>\n",
       "      <td>8760.000000</td>\n",
       "      <td>8760.000000</td>\n",
       "    </tr>\n",
       "    <tr>\n",
       "      <th>mean</th>\n",
       "      <td>11.940719</td>\n",
       "      <td>10.825320</td>\n",
       "      <td>0.754209</td>\n",
       "      <td>10.969389</td>\n",
       "      <td>187.861758</td>\n",
       "      <td>10.892049</td>\n",
       "      <td>1004.950764</td>\n",
       "    </tr>\n",
       "    <tr>\n",
       "      <th>std</th>\n",
       "      <td>9.389894</td>\n",
       "      <td>10.565661</td>\n",
       "      <td>0.194935</td>\n",
       "      <td>7.044222</td>\n",
       "      <td>107.407628</td>\n",
       "      <td>4.314109</td>\n",
       "      <td>104.974560</td>\n",
       "    </tr>\n",
       "    <tr>\n",
       "      <th>min</th>\n",
       "      <td>-8.983333</td>\n",
       "      <td>-13.888889</td>\n",
       "      <td>0.150000</td>\n",
       "      <td>0.000000</td>\n",
       "      <td>0.000000</td>\n",
       "      <td>0.000000</td>\n",
       "      <td>0.000000</td>\n",
       "    </tr>\n",
       "    <tr>\n",
       "      <th>25%</th>\n",
       "      <td>3.943056</td>\n",
       "      <td>1.515278</td>\n",
       "      <td>0.630000</td>\n",
       "      <td>5.872475</td>\n",
       "      <td>111.000000</td>\n",
       "      <td>9.676100</td>\n",
       "      <td>1011.020000</td>\n",
       "    </tr>\n",
       "    <tr>\n",
       "      <th>50%</th>\n",
       "      <td>11.941667</td>\n",
       "      <td>11.941667</td>\n",
       "      <td>0.800000</td>\n",
       "      <td>10.207400</td>\n",
       "      <td>183.000000</td>\n",
       "      <td>10.899700</td>\n",
       "      <td>1015.880000</td>\n",
       "    </tr>\n",
       "    <tr>\n",
       "      <th>75%</th>\n",
       "      <td>18.750000</td>\n",
       "      <td>18.750000</td>\n",
       "      <td>0.920000</td>\n",
       "      <td>14.216300</td>\n",
       "      <td>290.000000</td>\n",
       "      <td>15.182300</td>\n",
       "      <td>1020.290000</td>\n",
       "    </tr>\n",
       "    <tr>\n",
       "      <th>max</th>\n",
       "      <td>37.872222</td>\n",
       "      <td>39.344444</td>\n",
       "      <td>1.000000</td>\n",
       "      <td>50.135400</td>\n",
       "      <td>359.000000</td>\n",
       "      <td>16.100000</td>\n",
       "      <td>1041.930000</td>\n",
       "    </tr>\n",
       "  </tbody>\n",
       "</table>\n",
       "</div>"
      ],
      "text/plain": [
       "       Temperature (C)  Apparent Temperature (C)     Humidity  \\\n",
       "count      8760.000000               8760.000000  8760.000000   \n",
       "mean         11.940719                 10.825320     0.754209   \n",
       "std           9.389894                 10.565661     0.194935   \n",
       "min          -8.983333                -13.888889     0.150000   \n",
       "25%           3.943056                  1.515278     0.630000   \n",
       "50%          11.941667                 11.941667     0.800000   \n",
       "75%          18.750000                 18.750000     0.920000   \n",
       "max          37.872222                 39.344444     1.000000   \n",
       "\n",
       "       Wind Speed (km/h)  Wind Bearing (degrees)  Visibility (km)  \\\n",
       "count        8760.000000             8760.000000      8760.000000   \n",
       "mean           10.969389              187.861758        10.892049   \n",
       "std             7.044222              107.407628         4.314109   \n",
       "min             0.000000                0.000000         0.000000   \n",
       "25%             5.872475              111.000000         9.676100   \n",
       "50%            10.207400              183.000000        10.899700   \n",
       "75%            14.216300              290.000000        15.182300   \n",
       "max            50.135400              359.000000        16.100000   \n",
       "\n",
       "       Pressure (millibars)  \n",
       "count           8760.000000  \n",
       "mean            1004.950764  \n",
       "std              104.974560  \n",
       "min                0.000000  \n",
       "25%             1011.020000  \n",
       "50%             1015.880000  \n",
       "75%             1020.290000  \n",
       "max             1041.930000  "
      ]
     },
     "execution_count": 133,
     "metadata": {},
     "output_type": "execute_result"
    }
   ],
   "source": [
    "h.describe()"
   ]
  },
  {
   "cell_type": "code",
   "execution_count": 134,
   "metadata": {},
   "outputs": [
    {
     "data": {
      "text/plain": [
       "<matplotlib.axes._subplots.AxesSubplot at 0xa77c8b1340>"
      ]
     },
     "execution_count": 134,
     "metadata": {},
     "output_type": "execute_result"
    },
    {
     "data": {
      "image/png": "[encoded data removed]",
      "text/plain": [
       "<Figure size 1440x720 with 2 Axes>"
      ]
     },
     "metadata": {
      "needs_background": "light"
     },
     "output_type": "display_data"
    }
   ],
   "source": [
    "plt.figure(figsize=[20,10])\n",
    "sns.heatmap(h.corr(),cmap='coolwarm',annot=True)"
   ]
  },
  {
   "cell_type": "markdown",
   "metadata": {},
   "source": [
    "### Observations:\n",
    "\n",
    "<b>Positive Correlation</b>\n",
    "\n",
    "- Visibility and Temperature : 0.38\n",
    "- Wind Bearing and Wind Speed : 0.034\n",
    "\n",
    "<b>Negative Correlation</b>\n",
    "\n",
    "- Pressure and Humidity : -0.055\n",
    "\n",
    "The positive relationship shows that with the increase in the temperature there is a increase in visibility. Similarly for Wind speed and wind bearing which shows that as the wind speed increase direction of the wind changes.\n",
    "\n",
    "The negative relationship shows that with increase in the pressure humidity decreased in 2013."
   ]
  },
  {
   "cell_type": "markdown",
   "metadata": {},
   "source": [
    "## Analysis of year 2014"
   ]
  },
  {
   "cell_type": "code",
   "execution_count": 135,
   "metadata": {},
   "outputs": [
    {
     "data": {
      "text/plain": [
       "(8757, 11)"
      ]
     },
     "execution_count": 135,
     "metadata": {},
     "output_type": "execute_result"
    }
   ],
   "source": [
    "i = df[df['Year'] == '2014']\n",
    "i.shape"
   ]
  },
  {
   "cell_type": "code",
   "execution_count": 136,
   "metadata": {},
   "outputs": [
    {
     "name": "stdout",
     "output_type": "stream",
     "text": [
      "<class 'pandas.core.frame.DataFrame'>\n",
      "Int64Index: 8757 entries, 70152 to 78908\n",
      "Data columns (total 11 columns):\n",
      " #   Column                    Non-Null Count  Dtype  \n",
      "---  ------                    --------------  -----  \n",
      " 0   Year                      8757 non-null   object \n",
      " 1   Summary                   8757 non-null   object \n",
      " 2   Precip Type               8757 non-null   object \n",
      " 3   Temperature (C)           8757 non-null   float64\n",
      " 4   Apparent Temperature (C)  8757 non-null   float64\n",
      " 5   Humidity                  8757 non-null   float64\n",
      " 6   Wind Speed (km/h)         8757 non-null   float64\n",
      " 7   Wind Bearing (degrees)    8757 non-null   int64  \n",
      " 8   Visibility (km)           8757 non-null   float64\n",
      " 9   Pressure (millibars)      8757 non-null   float64\n",
      " 10  Daily Summary             8757 non-null   object \n",
      "dtypes: float64(6), int64(1), object(4)\n",
      "memory usage: 821.0+ KB\n"
     ]
    }
   ],
   "source": [
    "i.info()"
   ]
  },
  {
   "cell_type": "code",
   "execution_count": 137,
   "metadata": {},
   "outputs": [
    {
     "data": {
      "text/html": [
       "<div>\n",
       "<style scoped>\n",
       "    .dataframe tbody tr th:only-of-type {\n",
       "        vertical-align: middle;\n",
       "    }\n",
       "\n",
       "    .dataframe tbody tr th {\n",
       "        vertical-align: top;\n",
       "    }\n",
       "\n",
       "    .dataframe thead th {\n",
       "        text-align: right;\n",
       "    }\n",
       "</style>\n",
       "<table border=\"1\" class=\"dataframe\">\n",
       "  <thead>\n",
       "    <tr style=\"text-align: right;\">\n",
       "      <th></th>\n",
       "      <th>Temperature (C)</th>\n",
       "      <th>Apparent Temperature (C)</th>\n",
       "      <th>Humidity</th>\n",
       "      <th>Wind Speed (km/h)</th>\n",
       "      <th>Wind Bearing (degrees)</th>\n",
       "      <th>Visibility (km)</th>\n",
       "      <th>Pressure (millibars)</th>\n",
       "    </tr>\n",
       "  </thead>\n",
       "  <tbody>\n",
       "    <tr>\n",
       "      <th>count</th>\n",
       "      <td>8757.000000</td>\n",
       "      <td>8757.000000</td>\n",
       "      <td>8757.000000</td>\n",
       "      <td>8757.000000</td>\n",
       "      <td>8757.000000</td>\n",
       "      <td>8757.000000</td>\n",
       "      <td>8757.000000</td>\n",
       "    </tr>\n",
       "    <tr>\n",
       "      <th>mean</th>\n",
       "      <td>12.529737</td>\n",
       "      <td>11.628703</td>\n",
       "      <td>0.748578</td>\n",
       "      <td>10.502473</td>\n",
       "      <td>178.226219</td>\n",
       "      <td>11.320806</td>\n",
       "      <td>987.394676</td>\n",
       "    </tr>\n",
       "    <tr>\n",
       "      <th>std</th>\n",
       "      <td>8.181327</td>\n",
       "      <td>9.267807</td>\n",
       "      <td>0.183553</td>\n",
       "      <td>6.679484</td>\n",
       "      <td>104.511680</td>\n",
       "      <td>4.586403</td>\n",
       "      <td>167.281651</td>\n",
       "    </tr>\n",
       "    <tr>\n",
       "      <th>min</th>\n",
       "      <td>-13.255556</td>\n",
       "      <td>-19.472222</td>\n",
       "      <td>0.180000</td>\n",
       "      <td>0.000000</td>\n",
       "      <td>0.000000</td>\n",
       "      <td>0.000000</td>\n",
       "      <td>0.000000</td>\n",
       "    </tr>\n",
       "    <tr>\n",
       "      <th>25%</th>\n",
       "      <td>6.600000</td>\n",
       "      <td>4.866667</td>\n",
       "      <td>0.640000</td>\n",
       "      <td>5.457900</td>\n",
       "      <td>110.000000</td>\n",
       "      <td>9.096500</td>\n",
       "      <td>1011.190000</td>\n",
       "    </tr>\n",
       "    <tr>\n",
       "      <th>50%</th>\n",
       "      <td>12.355556</td>\n",
       "      <td>12.355556</td>\n",
       "      <td>0.800000</td>\n",
       "      <td>9.853200</td>\n",
       "      <td>160.000000</td>\n",
       "      <td>10.352300</td>\n",
       "      <td>1014.990000</td>\n",
       "    </tr>\n",
       "    <tr>\n",
       "      <th>75%</th>\n",
       "      <td>18.344444</td>\n",
       "      <td>18.344444</td>\n",
       "      <td>0.900000</td>\n",
       "      <td>13.846000</td>\n",
       "      <td>280.000000</td>\n",
       "      <td>15.697500</td>\n",
       "      <td>1019.470000</td>\n",
       "    </tr>\n",
       "    <tr>\n",
       "      <th>max</th>\n",
       "      <td>33.911111</td>\n",
       "      <td>35.094444</td>\n",
       "      <td>1.000000</td>\n",
       "      <td>54.884900</td>\n",
       "      <td>359.000000</td>\n",
       "      <td>16.100000</td>\n",
       "      <td>1039.130000</td>\n",
       "    </tr>\n",
       "  </tbody>\n",
       "</table>\n",
       "</div>"
      ],
      "text/plain": [
       "       Temperature (C)  Apparent Temperature (C)     Humidity  \\\n",
       "count      8757.000000               8757.000000  8757.000000   \n",
       "mean         12.529737                 11.628703     0.748578   \n",
       "std           8.181327                  9.267807     0.183553   \n",
       "min         -13.255556                -19.472222     0.180000   \n",
       "25%           6.600000                  4.866667     0.640000   \n",
       "50%          12.355556                 12.355556     0.800000   \n",
       "75%          18.344444                 18.344444     0.900000   \n",
       "max          33.911111                 35.094444     1.000000   \n",
       "\n",
       "       Wind Speed (km/h)  Wind Bearing (degrees)  Visibility (km)  \\\n",
       "count        8757.000000             8757.000000      8757.000000   \n",
       "mean           10.502473              178.226219        11.320806   \n",
       "std             6.679484              104.511680         4.586403   \n",
       "min             0.000000                0.000000         0.000000   \n",
       "25%             5.457900              110.000000         9.096500   \n",
       "50%             9.853200              160.000000        10.352300   \n",
       "75%            13.846000              280.000000        15.697500   \n",
       "max            54.884900              359.000000        16.100000   \n",
       "\n",
       "       Pressure (millibars)  \n",
       "count           8757.000000  \n",
       "mean             987.394676  \n",
       "std              167.281651  \n",
       "min                0.000000  \n",
       "25%             1011.190000  \n",
       "50%             1014.990000  \n",
       "75%             1019.470000  \n",
       "max             1039.130000  "
      ]
     },
     "execution_count": 137,
     "metadata": {},
     "output_type": "execute_result"
    }
   ],
   "source": [
    "i.describe()"
   ]
  },
  {
   "cell_type": "code",
   "execution_count": 138,
   "metadata": {},
   "outputs": [
    {
     "data": {
      "text/plain": [
       "<matplotlib.axes._subplots.AxesSubplot at 0xa7782cd340>"
      ]
     },
     "execution_count": 138,
     "metadata": {},
     "output_type": "execute_result"
    },
    {
     "data": {
      "image/png": "[encoded data removed]",
      "text/plain": [
       "<Figure size 1440x720 with 2 Axes>"
      ]
     },
     "metadata": {
      "needs_background": "light"
     },
     "output_type": "display_data"
    }
   ],
   "source": [
    "plt.figure(figsize=[20,10])\n",
    "sns.heatmap(i.corr(),cmap='coolwarm',annot=True)"
   ]
  },
  {
   "cell_type": "markdown",
   "metadata": {},
   "source": [
    "### Observations:\n",
    "\n",
    "<b>Positive Correlation</b>\n",
    "\n",
    "- Visibility and Temperature : 0.43\n",
    "- Wind Bearing and Wind Speed : 0.06\n",
    "\n",
    "<b>Negative Correlation</b>\n",
    "\n",
    "- Pressure and Humidity : -0.026\n",
    "\n",
    "The positive relationship shows that with the increase in the temperature there is a increase in visibility. Similarly for Wind speed and wind bearing which shows that as the wind speed increase direction of the wind changes.\n",
    "\n",
    "The negative relationship shows that with increase in the pressure  humidity decreased in 2014."
   ]
  },
  {
   "cell_type": "markdown",
   "metadata": {},
   "source": [
    "## Analysis of year 2015"
   ]
  },
  {
   "cell_type": "code",
   "execution_count": 139,
   "metadata": {},
   "outputs": [
    {
     "data": {
      "text/plain": [
       "(8760, 11)"
      ]
     },
     "execution_count": 139,
     "metadata": {},
     "output_type": "execute_result"
    }
   ],
   "source": [
    "j = df[df['Year']=='2015']\n",
    "j.shape"
   ]
  },
  {
   "cell_type": "code",
   "execution_count": 140,
   "metadata": {},
   "outputs": [
    {
     "name": "stdout",
     "output_type": "stream",
     "text": [
      "<class 'pandas.core.frame.DataFrame'>\n",
      "Int64Index: 8760 entries, 78909 to 87668\n",
      "Data columns (total 11 columns):\n",
      " #   Column                    Non-Null Count  Dtype  \n",
      "---  ------                    --------------  -----  \n",
      " 0   Year                      8760 non-null   object \n",
      " 1   Summary                   8760 non-null   object \n",
      " 2   Precip Type               8760 non-null   object \n",
      " 3   Temperature (C)           8760 non-null   float64\n",
      " 4   Apparent Temperature (C)  8760 non-null   float64\n",
      " 5   Humidity                  8760 non-null   float64\n",
      " 6   Wind Speed (km/h)         8760 non-null   float64\n",
      " 7   Wind Bearing (degrees)    8760 non-null   int64  \n",
      " 8   Visibility (km)           8760 non-null   float64\n",
      " 9   Pressure (millibars)      8760 non-null   float64\n",
      " 10  Daily Summary             8760 non-null   object \n",
      "dtypes: float64(6), int64(1), object(4)\n",
      "memory usage: 821.2+ KB\n"
     ]
    }
   ],
   "source": [
    "j.info()"
   ]
  },
  {
   "cell_type": "code",
   "execution_count": 141,
   "metadata": {},
   "outputs": [
    {
     "data": {
      "text/html": [
       "<div>\n",
       "<style scoped>\n",
       "    .dataframe tbody tr th:only-of-type {\n",
       "        vertical-align: middle;\n",
       "    }\n",
       "\n",
       "    .dataframe tbody tr th {\n",
       "        vertical-align: top;\n",
       "    }\n",
       "\n",
       "    .dataframe thead th {\n",
       "        text-align: right;\n",
       "    }\n",
       "</style>\n",
       "<table border=\"1\" class=\"dataframe\">\n",
       "  <thead>\n",
       "    <tr style=\"text-align: right;\">\n",
       "      <th></th>\n",
       "      <th>Temperature (C)</th>\n",
       "      <th>Apparent Temperature (C)</th>\n",
       "      <th>Humidity</th>\n",
       "      <th>Wind Speed (km/h)</th>\n",
       "      <th>Wind Bearing (degrees)</th>\n",
       "      <th>Visibility (km)</th>\n",
       "      <th>Pressure (millibars)</th>\n",
       "    </tr>\n",
       "  </thead>\n",
       "  <tbody>\n",
       "    <tr>\n",
       "      <th>count</th>\n",
       "      <td>8760.000000</td>\n",
       "      <td>8760.000000</td>\n",
       "      <td>8760.000000</td>\n",
       "      <td>8760.000000</td>\n",
       "      <td>8760.000000</td>\n",
       "      <td>8760.000000</td>\n",
       "      <td>8760.000000</td>\n",
       "    </tr>\n",
       "    <tr>\n",
       "      <th>mean</th>\n",
       "      <td>12.311370</td>\n",
       "      <td>11.340911</td>\n",
       "      <td>0.732355</td>\n",
       "      <td>10.735247</td>\n",
       "      <td>184.098174</td>\n",
       "      <td>10.912786</td>\n",
       "      <td>1005.179401</td>\n",
       "    </tr>\n",
       "    <tr>\n",
       "      <th>std</th>\n",
       "      <td>9.367783</td>\n",
       "      <td>10.401825</td>\n",
       "      <td>0.200232</td>\n",
       "      <td>7.070953</td>\n",
       "      <td>112.159916</td>\n",
       "      <td>5.092462</td>\n",
       "      <td>116.754195</td>\n",
       "    </tr>\n",
       "    <tr>\n",
       "      <th>min</th>\n",
       "      <td>-13.066667</td>\n",
       "      <td>-14.644444</td>\n",
       "      <td>0.180000</td>\n",
       "      <td>0.000000</td>\n",
       "      <td>0.000000</td>\n",
       "      <td>0.000000</td>\n",
       "      <td>0.000000</td>\n",
       "    </tr>\n",
       "    <tr>\n",
       "      <th>25%</th>\n",
       "      <td>4.433333</td>\n",
       "      <td>2.627778</td>\n",
       "      <td>0.590000</td>\n",
       "      <td>5.357275</td>\n",
       "      <td>95.000000</td>\n",
       "      <td>7.486500</td>\n",
       "      <td>1013.290000</td>\n",
       "    </tr>\n",
       "    <tr>\n",
       "      <th>50%</th>\n",
       "      <td>12.055556</td>\n",
       "      <td>12.055556</td>\n",
       "      <td>0.780000</td>\n",
       "      <td>9.788800</td>\n",
       "      <td>180.000000</td>\n",
       "      <td>10.352300</td>\n",
       "      <td>1017.520000</td>\n",
       "    </tr>\n",
       "    <tr>\n",
       "      <th>75%</th>\n",
       "      <td>18.911111</td>\n",
       "      <td>18.911111</td>\n",
       "      <td>0.900000</td>\n",
       "      <td>14.055300</td>\n",
       "      <td>292.000000</td>\n",
       "      <td>15.826300</td>\n",
       "      <td>1023.442500</td>\n",
       "    </tr>\n",
       "    <tr>\n",
       "      <th>max</th>\n",
       "      <td>37.194444</td>\n",
       "      <td>37.783333</td>\n",
       "      <td>1.000000</td>\n",
       "      <td>46.609500</td>\n",
       "      <td>359.000000</td>\n",
       "      <td>16.100000</td>\n",
       "      <td>1042.380000</td>\n",
       "    </tr>\n",
       "  </tbody>\n",
       "</table>\n",
       "</div>"
      ],
      "text/plain": [
       "       Temperature (C)  Apparent Temperature (C)     Humidity  \\\n",
       "count      8760.000000               8760.000000  8760.000000   \n",
       "mean         12.311370                 11.340911     0.732355   \n",
       "std           9.367783                 10.401825     0.200232   \n",
       "min         -13.066667                -14.644444     0.180000   \n",
       "25%           4.433333                  2.627778     0.590000   \n",
       "50%          12.055556                 12.055556     0.780000   \n",
       "75%          18.911111                 18.911111     0.900000   \n",
       "max          37.194444                 37.783333     1.000000   \n",
       "\n",
       "       Wind Speed (km/h)  Wind Bearing (degrees)  Visibility (km)  \\\n",
       "count        8760.000000             8760.000000      8760.000000   \n",
       "mean           10.735247              184.098174        10.912786   \n",
       "std             7.070953              112.159916         5.092462   \n",
       "min             0.000000                0.000000         0.000000   \n",
       "25%             5.357275               95.000000         7.486500   \n",
       "50%             9.788800              180.000000        10.352300   \n",
       "75%            14.055300              292.000000        15.826300   \n",
       "max            46.609500              359.000000        16.100000   \n",
       "\n",
       "       Pressure (millibars)  \n",
       "count           8760.000000  \n",
       "mean            1005.179401  \n",
       "std              116.754195  \n",
       "min                0.000000  \n",
       "25%             1013.290000  \n",
       "50%             1017.520000  \n",
       "75%             1023.442500  \n",
       "max             1042.380000  "
      ]
     },
     "execution_count": 141,
     "metadata": {},
     "output_type": "execute_result"
    }
   ],
   "source": [
    "j.describe()"
   ]
  },
  {
   "cell_type": "code",
   "execution_count": 142,
   "metadata": {},
   "outputs": [
    {
     "data": {
      "text/plain": [
       "<matplotlib.axes._subplots.AxesSubplot at 0xa776910340>"
      ]
     },
     "execution_count": 142,
     "metadata": {},
     "output_type": "execute_result"
    },
    {
     "data": {
      "image/png": "[encoded data removed]",
      "text/plain": [
       "<Figure size 1440x720 with 2 Axes>"
      ]
     },
     "metadata": {
      "needs_background": "light"
     },
     "output_type": "display_data"
    }
   ],
   "source": [
    "plt.figure(figsize=[20,10])\n",
    "sns.heatmap(j.corr(),cmap='coolwarm',annot=True)"
   ]
  },
  {
   "cell_type": "markdown",
   "metadata": {},
   "source": [
    "### Observations:\n",
    "\n",
    "<b>Positive Correlation</b>\n",
    "\n",
    "- Visibility and Temperature : 0.5\n",
    "- Wind Bearing and Wind Speed : 0.091\n",
    "\n",
    "<b>Negative Correlation</b>\n",
    "\n",
    "- Pressure and Humidity : -0.013\n",
    "\n",
    "The positive relationship shows that with the increase in the temperature there is a increase in visibility. Similarly for Wind speed and wind bearing which shows that as the wind speed increase direction of the wind changes.\n",
    "\n",
    "The negative relationship shows that with increase in the pressure  humidity decreased in 2015."
   ]
  },
  {
   "cell_type": "markdown",
   "metadata": {},
   "source": [
    "## Analysis of year 2016"
   ]
  },
  {
   "cell_type": "code",
   "execution_count": 143,
   "metadata": {},
   "outputs": [
    {
     "data": {
      "text/plain": [
       "(8784, 11)"
      ]
     },
     "execution_count": 143,
     "metadata": {},
     "output_type": "execute_result"
    }
   ],
   "source": [
    "k = df[df['Year'] == '2016']\n",
    "k.shape"
   ]
  },
  {
   "cell_type": "code",
   "execution_count": 144,
   "metadata": {},
   "outputs": [
    {
     "name": "stdout",
     "output_type": "stream",
     "text": [
      "<class 'pandas.core.frame.DataFrame'>\n",
      "Int64Index: 8784 entries, 87669 to 96452\n",
      "Data columns (total 11 columns):\n",
      " #   Column                    Non-Null Count  Dtype  \n",
      "---  ------                    --------------  -----  \n",
      " 0   Year                      8784 non-null   object \n",
      " 1   Summary                   8784 non-null   object \n",
      " 2   Precip Type               8410 non-null   object \n",
      " 3   Temperature (C)           8784 non-null   float64\n",
      " 4   Apparent Temperature (C)  8784 non-null   float64\n",
      " 5   Humidity                  8784 non-null   float64\n",
      " 6   Wind Speed (km/h)         8784 non-null   float64\n",
      " 7   Wind Bearing (degrees)    8784 non-null   int64  \n",
      " 8   Visibility (km)           8784 non-null   float64\n",
      " 9   Pressure (millibars)      8784 non-null   float64\n",
      " 10  Daily Summary             8784 non-null   object \n",
      "dtypes: float64(6), int64(1), object(4)\n",
      "memory usage: 823.5+ KB\n"
     ]
    }
   ],
   "source": [
    "k.info()"
   ]
  },
  {
   "cell_type": "code",
   "execution_count": 145,
   "metadata": {},
   "outputs": [
    {
     "data": {
      "text/html": [
       "<div>\n",
       "<style scoped>\n",
       "    .dataframe tbody tr th:only-of-type {\n",
       "        vertical-align: middle;\n",
       "    }\n",
       "\n",
       "    .dataframe tbody tr th {\n",
       "        vertical-align: top;\n",
       "    }\n",
       "\n",
       "    .dataframe thead th {\n",
       "        text-align: right;\n",
       "    }\n",
       "</style>\n",
       "<table border=\"1\" class=\"dataframe\">\n",
       "  <thead>\n",
       "    <tr style=\"text-align: right;\">\n",
       "      <th></th>\n",
       "      <th>Temperature (C)</th>\n",
       "      <th>Apparent Temperature (C)</th>\n",
       "      <th>Humidity</th>\n",
       "      <th>Wind Speed (km/h)</th>\n",
       "      <th>Wind Bearing (degrees)</th>\n",
       "      <th>Visibility (km)</th>\n",
       "      <th>Pressure (millibars)</th>\n",
       "    </tr>\n",
       "  </thead>\n",
       "  <tbody>\n",
       "    <tr>\n",
       "      <th>count</th>\n",
       "      <td>8784.000000</td>\n",
       "      <td>8784.000000</td>\n",
       "      <td>8784.000000</td>\n",
       "      <td>8784.000000</td>\n",
       "      <td>8784.000000</td>\n",
       "      <td>8784.000000</td>\n",
       "      <td>8784.000000</td>\n",
       "    </tr>\n",
       "    <tr>\n",
       "      <th>mean</th>\n",
       "      <td>11.985292</td>\n",
       "      <td>10.832629</td>\n",
       "      <td>0.760874</td>\n",
       "      <td>10.703441</td>\n",
       "      <td>185.438069</td>\n",
       "      <td>11.249668</td>\n",
       "      <td>1015.162161</td>\n",
       "    </tr>\n",
       "    <tr>\n",
       "      <th>std</th>\n",
       "      <td>9.031028</td>\n",
       "      <td>10.232430</td>\n",
       "      <td>0.182259</td>\n",
       "      <td>6.148946</td>\n",
       "      <td>101.045234</td>\n",
       "      <td>4.550629</td>\n",
       "      <td>34.916543</td>\n",
       "    </tr>\n",
       "    <tr>\n",
       "      <th>min</th>\n",
       "      <td>-10.133333</td>\n",
       "      <td>-17.222222</td>\n",
       "      <td>0.230000</td>\n",
       "      <td>0.000000</td>\n",
       "      <td>0.000000</td>\n",
       "      <td>0.000000</td>\n",
       "      <td>0.000000</td>\n",
       "    </tr>\n",
       "    <tr>\n",
       "      <th>25%</th>\n",
       "      <td>4.788889</td>\n",
       "      <td>2.255556</td>\n",
       "      <td>0.650000</td>\n",
       "      <td>6.359500</td>\n",
       "      <td>132.000000</td>\n",
       "      <td>8.404200</td>\n",
       "      <td>1012.900000</td>\n",
       "    </tr>\n",
       "    <tr>\n",
       "      <th>50%</th>\n",
       "      <td>11.086111</td>\n",
       "      <td>11.086111</td>\n",
       "      <td>0.810000</td>\n",
       "      <td>10.062500</td>\n",
       "      <td>175.000000</td>\n",
       "      <td>10.352300</td>\n",
       "      <td>1017.080000</td>\n",
       "    </tr>\n",
       "    <tr>\n",
       "      <th>75%</th>\n",
       "      <td>18.800000</td>\n",
       "      <td>18.800000</td>\n",
       "      <td>0.900000</td>\n",
       "      <td>13.894300</td>\n",
       "      <td>275.000000</td>\n",
       "      <td>15.649200</td>\n",
       "      <td>1019.980000</td>\n",
       "    </tr>\n",
       "    <tr>\n",
       "      <th>max</th>\n",
       "      <td>34.811111</td>\n",
       "      <td>37.005556</td>\n",
       "      <td>1.000000</td>\n",
       "      <td>38.833200</td>\n",
       "      <td>359.000000</td>\n",
       "      <td>16.100000</td>\n",
       "      <td>1038.010000</td>\n",
       "    </tr>\n",
       "  </tbody>\n",
       "</table>\n",
       "</div>"
      ],
      "text/plain": [
       "       Temperature (C)  Apparent Temperature (C)     Humidity  \\\n",
       "count      8784.000000               8784.000000  8784.000000   \n",
       "mean         11.985292                 10.832629     0.760874   \n",
       "std           9.031028                 10.232430     0.182259   \n",
       "min         -10.133333                -17.222222     0.230000   \n",
       "25%           4.788889                  2.255556     0.650000   \n",
       "50%          11.086111                 11.086111     0.810000   \n",
       "75%          18.800000                 18.800000     0.900000   \n",
       "max          34.811111                 37.005556     1.000000   \n",
       "\n",
       "       Wind Speed (km/h)  Wind Bearing (degrees)  Visibility (km)  \\\n",
       "count        8784.000000             8784.000000      8784.000000   \n",
       "mean           10.703441              185.438069        11.249668   \n",
       "std             6.148946              101.045234         4.550629   \n",
       "min             0.000000                0.000000         0.000000   \n",
       "25%             6.359500              132.000000         8.404200   \n",
       "50%            10.062500              175.000000        10.352300   \n",
       "75%            13.894300              275.000000        15.649200   \n",
       "max            38.833200              359.000000        16.100000   \n",
       "\n",
       "       Pressure (millibars)  \n",
       "count           8784.000000  \n",
       "mean            1015.162161  \n",
       "std               34.916543  \n",
       "min                0.000000  \n",
       "25%             1012.900000  \n",
       "50%             1017.080000  \n",
       "75%             1019.980000  \n",
       "max             1038.010000  "
      ]
     },
     "execution_count": 145,
     "metadata": {},
     "output_type": "execute_result"
    }
   ],
   "source": [
    "k.describe()"
   ]
  },
  {
   "cell_type": "code",
   "execution_count": 146,
   "metadata": {},
   "outputs": [
    {
     "data": {
      "text/plain": [
       "44.94444444"
      ]
     },
     "execution_count": 146,
     "metadata": {},
     "output_type": "execute_result"
    }
   ],
   "source": [
    "temp_range_2016 = k['Temperature (C)'].max() - k['Temperature (C)'].min()\n",
    "temp_range_2016"
   ]
  },
  {
   "cell_type": "code",
   "execution_count": 147,
   "metadata": {},
   "outputs": [
    {
     "data": {
      "text/plain": [
       "<matplotlib.axes._subplots.AxesSubplot at 0xa776fa4100>"
      ]
     },
     "execution_count": 147,
     "metadata": {},
     "output_type": "execute_result"
    },
    {
     "data": {
      "image/png": "[encoded data removed]",
      "text/plain": [
       "<Figure size 1440x720 with 2 Axes>"
      ]
     },
     "metadata": {
      "needs_background": "light"
     },
     "output_type": "display_data"
    }
   ],
   "source": [
    "plt.figure(figsize=[20,10])\n",
    "sns.heatmap(k.corr(),cmap='coolwarm',annot=True)"
   ]
  },
  {
   "cell_type": "markdown",
   "metadata": {},
   "source": [
    "### Observations:\n",
    "\n",
    "<b>Positive Correlation</b>\n",
    "\n",
    "- Visibility and Temperature : 0.48\n",
    "- Wind Bearing and Wind Speed : 0.039\n",
    "\n",
    "<b>Negative Correlation</b>\n",
    "\n",
    "- Pressure and Humidity : -0.015\n",
    "\n",
    "The positive relationship shows that with the increase in the temperature there is a increase in visibility. Similarly for Wind speed and wind bearing which shows that as the wind speed increase direction of the wind changes.\n",
    "\n",
    "The negative relationship shows that with increase in the pressure  humidity decreased in 2016."
   ]
  },
  {
   "cell_type": "markdown",
   "metadata": {},
   "source": [
    "## Analysis from 2006 to 2016"
   ]
  },
  {
   "cell_type": "code",
   "execution_count": 171,
   "metadata": {},
   "outputs": [],
   "source": [
    "x = [a,b,c,d,e,f,g,h,i,j,k]\n",
    "max_temp = []\n",
    "min_temp = []\n",
    "avg_temp = []\n",
    "for i in x:\n",
    "    #print(i['Temperature (C)'].max())\n",
    "    max_temp.append(i['Temperature (C)'].max())\n",
    "    min_temp.append(i['Temperature (C)'].min())\n",
    "    avg_temp.append(i['Temperature (C)'].mean())"
   ]
  },
  {
   "cell_type": "code",
   "execution_count": 173,
   "metadata": {},
   "outputs": [
    {
     "data": {
      "text/plain": [
       "<matplotlib.axes._subplots.AxesSubplot at 0xa76073e5b0>"
      ]
     },
     "execution_count": 173,
     "metadata": {},
     "output_type": "execute_result"
    },
    {
     "data": {
      "image/png": "[encoded data removed]",
      "text/plain": [
       "<Figure size 864x432 with 1 Axes>"
      ]
     },
     "metadata": {
      "needs_background": "light"
     },
     "output_type": "display_data"
    }
   ],
   "source": [
    "year_list=[2006,2007,2008,2009,2010,2011,2012,2013,2014,2015,2016]\n",
    "plt.figure(figsize=(12,6))\n",
    "sns.lineplot(data=pd.DataFrame({'Year':year_list,'Max Temprature':max_temp,'Min Temperature':min_temp,\n",
    "                                'Average Temperature':avg_temp}).set_index('Year'),markers=True, dashes=False)"
   ]
  },
  {
   "cell_type": "markdown",
   "metadata": {},
   "source": [
    "### Coclusion\n",
    "\n",
    "The graph clearly shows the maximum, minimum and average temperature from year 2006 to 2016. From the graph it is clear that there is big drop in the temperature in the year 2012 while the maximum temperature that was noted was in the year 2007. Graph clearly states that the average temperature remained the same from 2006 to 2016."
   ]
  },
  {
   "cell_type": "code",
   "execution_count": null,
   "metadata": {},
   "outputs": [],
   "source": []
  }
 ],
 "metadata": {
  "kernelspec": {
   "display_name": "Python 3",
   "language": "python",
   "name": "python3"
  },
  "language_info": {
   "codemirror_mode": {
    "name": "ipython",
    "version": 3
   },
   "file_extension": ".py",
   "mimetype": "text/x-python",
   "name": "python",
   "nbconvert_exporter": "python",
   "pygments_lexer": "ipython3",
   "version": "3.8.3"
  }
 },
 "nbformat": 4,
 "nbformat_minor": 4
}
